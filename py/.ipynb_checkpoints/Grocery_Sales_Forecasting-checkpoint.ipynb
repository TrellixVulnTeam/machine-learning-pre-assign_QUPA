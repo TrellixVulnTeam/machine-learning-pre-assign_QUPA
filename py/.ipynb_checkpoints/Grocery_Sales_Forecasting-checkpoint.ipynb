{
 "cells": [
  {
   "cell_type": "code",
   "execution_count": 1,
   "metadata": {
    "collapsed": false
   },
   "outputs": [
    {
     "data": {
      "text/html": [
       "<script>requirejs.config({paths: { 'plotly': ['https://cdn.plot.ly/plotly-latest.min']},});if(!window.Plotly) {{require(['plotly'],function(plotly) {window.Plotly=plotly;});}}</script>"
      ],
      "text/plain": [
       "<IPython.core.display.HTML object>"
      ]
     },
     "metadata": {},
     "output_type": "display_data"
    }
   ],
   "source": [
    "import pandas as pd\n",
    "from sklearn import preprocessing\n",
    "import seaborn as sns\n",
    "import plotly.offline as py\n",
    "py.init_notebook_mode(connected=True)\n",
    "import plotly.graph_objs as go\n",
    "import plotly.tools as tls\n",
    "import numpy as np\n",
    "from matplotlib import pyplot as plt\n",
    "from IPython.core.interactiveshell import InteractiveShell\n",
    "InteractiveShell.ast_node_interactivity = \"all\"\n",
    "%matplotlib inline\n",
    "from IPython.core.display import Image "
   ]
  },
  {
   "cell_type": "code",
   "execution_count": 2,
   "metadata": {
    "collapsed": false
   },
   "outputs": [],
   "source": [
    "items = pd.read_csv(\"..\\\\data\\\\items.csv\")\n",
    "holiday_events = pd.read_csv(\"..\\\\data\\\\holidays_events.csv\")\n",
    "stores = pd.read_csv(\"..\\\\data\\\\stores.csv\")\n",
    "oil = pd.read_csv(\"..\\\\data\\\\oil.csv\")\n",
    "transactions = pd.read_csv(\"..\\\\data\\\\transactions.csv\",parse_dates=['date'])\n",
    "\n",
    "df_train = pd.read_csv(\"..\\\\data\\\\train_small.csv\", dtype={'onpromotion': bool}, parse_dates=[\"date\"])\n",
    "df_test = pd.read_csv(\"..\\\\data\\\\test_small.csv\",dtype={'onpromotion': bool}, parse_dates=[\"date\"])"
   ]
  },
  {
   "cell_type": "code",
   "execution_count": 3,
   "metadata": {
    "collapsed": false
   },
   "outputs": [
    {
     "data": {
      "text/html": [
       "<div>\n",
       "<style scoped>\n",
       "    .dataframe tbody tr th:only-of-type {\n",
       "        vertical-align: middle;\n",
       "    }\n",
       "\n",
       "    .dataframe tbody tr th {\n",
       "        vertical-align: top;\n",
       "    }\n",
       "\n",
       "    .dataframe thead th {\n",
       "        text-align: right;\n",
       "    }\n",
       "</style>\n",
       "<table border=\"1\" class=\"dataframe\">\n",
       "  <thead>\n",
       "    <tr style=\"text-align: right;\">\n",
       "      <th></th>\n",
       "      <th>id</th>\n",
       "      <th>date</th>\n",
       "      <th>store_nbr</th>\n",
       "      <th>item_nbr</th>\n",
       "      <th>unit_sales</th>\n",
       "      <th>onpromotion</th>\n",
       "      <th>family</th>\n",
       "      <th>class</th>\n",
       "      <th>perishable</th>\n",
       "      <th>city</th>\n",
       "      <th>state</th>\n",
       "      <th>type</th>\n",
       "      <th>cluster</th>\n",
       "      <th>transactions</th>\n",
       "      <th>transferred</th>\n",
       "      <th>dcoilwtico</th>\n",
       "    </tr>\n",
       "  </thead>\n",
       "  <tbody>\n",
       "    <tr>\n",
       "      <th>0</th>\n",
       "      <td>120642911</td>\n",
       "      <td>2017-07-01 00:00:00</td>\n",
       "      <td>1</td>\n",
       "      <td>99197</td>\n",
       "      <td>2.0</td>\n",
       "      <td>False</td>\n",
       "      <td>GROCERY I</td>\n",
       "      <td>1067</td>\n",
       "      <td>0</td>\n",
       "      <td>Quito</td>\n",
       "      <td>Pichincha</td>\n",
       "      <td>D</td>\n",
       "      <td>13</td>\n",
       "      <td>1362</td>\n",
       "      <td>NaN</td>\n",
       "      <td>NaN</td>\n",
       "    </tr>\n",
       "    <tr>\n",
       "      <th>1</th>\n",
       "      <td>120642912</td>\n",
       "      <td>2017-07-01 00:00:00</td>\n",
       "      <td>1</td>\n",
       "      <td>103520</td>\n",
       "      <td>2.0</td>\n",
       "      <td>False</td>\n",
       "      <td>GROCERY I</td>\n",
       "      <td>1028</td>\n",
       "      <td>0</td>\n",
       "      <td>Quito</td>\n",
       "      <td>Pichincha</td>\n",
       "      <td>D</td>\n",
       "      <td>13</td>\n",
       "      <td>1362</td>\n",
       "      <td>NaN</td>\n",
       "      <td>NaN</td>\n",
       "    </tr>\n",
       "    <tr>\n",
       "      <th>2</th>\n",
       "      <td>120642913</td>\n",
       "      <td>2017-07-01 00:00:00</td>\n",
       "      <td>1</td>\n",
       "      <td>103665</td>\n",
       "      <td>11.0</td>\n",
       "      <td>False</td>\n",
       "      <td>BREAD/BAKERY</td>\n",
       "      <td>2712</td>\n",
       "      <td>1</td>\n",
       "      <td>Quito</td>\n",
       "      <td>Pichincha</td>\n",
       "      <td>D</td>\n",
       "      <td>13</td>\n",
       "      <td>1362</td>\n",
       "      <td>NaN</td>\n",
       "      <td>NaN</td>\n",
       "    </tr>\n",
       "  </tbody>\n",
       "</table>\n",
       "</div>"
      ],
      "text/plain": [
       "          id                 date  store_nbr  item_nbr  unit_sales  \\\n",
       "0  120642911  2017-07-01 00:00:00          1     99197         2.0   \n",
       "1  120642912  2017-07-01 00:00:00          1    103520         2.0   \n",
       "2  120642913  2017-07-01 00:00:00          1    103665        11.0   \n",
       "\n",
       "   onpromotion        family  class  perishable   city      state type  \\\n",
       "0        False     GROCERY I   1067           0  Quito  Pichincha    D   \n",
       "1        False     GROCERY I   1028           0  Quito  Pichincha    D   \n",
       "2        False  BREAD/BAKERY   2712           1  Quito  Pichincha    D   \n",
       "\n",
       "   cluster  transactions transferred  dcoilwtico  \n",
       "0       13          1362         NaN         NaN  \n",
       "1       13          1362         NaN         NaN  \n",
       "2       13          1362         NaN         NaN  "
      ]
     },
     "execution_count": 3,
     "metadata": {},
     "output_type": "execute_result"
    }
   ],
   "source": [
    "holiday_events= holiday_events[holiday_events[\"locale\"]==\"National\"][[\"date\",\"transferred\"]]\n",
    "\n",
    "df = pd.merge(df_train, items, how='left', on=['item_nbr'])\n",
    "df = pd.merge(df, stores, how='left', on=['store_nbr'])\n",
    "df = pd.merge(df, transactions, how='left', on=['date','store_nbr'])\n",
    "df = pd.merge(df, holiday_events, how = 'left', on=['date'])\n",
    "df = pd.merge(df, oil, how='left', on=['date'])\n",
    "\n",
    "df.head(3)"
   ]
  },
  {
   "cell_type": "code",
   "execution_count": null,
   "metadata": {
    "collapsed": true
   },
   "outputs": [],
   "source": [
    "# df_train = pd.read_csv(\"C:\\\\Users\\\\yiqin\\\\Dropbox\\\\UCD\\\\18Winter\\\\452 Machine Learning\\\\pre-assign-data\\\\train_2017.csv\", \n",
    "#                        dtype={'onpromotion': bool}, parse_dates=[\"date\"])\n",
    "# df_train = df_train.loc[df_train.date>=pd.datetime(2017,7,1)]\n",
    "# df_train = pd.read_csv(\n",
    "#     'train.csv', usecols=[1, 2, 3, 4, 5],\n",
    "#     dtype={'onpromotion': bool},\n",
    "#     converters={'unit_sales': lambda u: np.log1p(\n",
    "#         float(u)) if float(u) > 0 else 0},\n",
    "#     parse_dates=[\"date\"],\n",
    "#     skiprows=range(1, 66458909)  # 2016-01-01\n",
    "# )\n",
    "# df_test = pd.read_csv(\"test.csv\",dtype={'onpromotion': bool}, parse_dates=[\"date\"]).set_index(['store_nbr', 'item_nbr', 'date'])\n",
    "# df_2017 = df_train.loc[df_train.date>=pd.datetime(2017,1,1)]\n",
    "# df_2017.head()"
   ]
  },
  {
   "cell_type": "markdown",
   "metadata": {},
   "source": [
    "## Items\n",
    "question: how to lengend the color in marker instead of in trace1/2? if plot it separtely by trace1 and 2, how to combine them instead of trace1 and then trace 2?"
   ]
  },
  {
   "cell_type": "code",
   "execution_count": 4,
   "metadata": {
    "collapsed": false,
    "scrolled": false
   },
   "outputs": [
    {
     "data": {
      "text/html": [
       "<div>\n",
       "<style scoped>\n",
       "    .dataframe tbody tr th:only-of-type {\n",
       "        vertical-align: middle;\n",
       "    }\n",
       "\n",
       "    .dataframe tbody tr th {\n",
       "        vertical-align: top;\n",
       "    }\n",
       "\n",
       "    .dataframe thead th {\n",
       "        text-align: right;\n",
       "    }\n",
       "</style>\n",
       "<table border=\"1\" class=\"dataframe\">\n",
       "  <thead>\n",
       "    <tr style=\"text-align: right;\">\n",
       "      <th></th>\n",
       "      <th>item_nbr</th>\n",
       "      <th>family</th>\n",
       "      <th>class</th>\n",
       "      <th>perishable</th>\n",
       "    </tr>\n",
       "  </thead>\n",
       "  <tbody>\n",
       "    <tr>\n",
       "      <th>0</th>\n",
       "      <td>96995</td>\n",
       "      <td>GROCERY I</td>\n",
       "      <td>1093</td>\n",
       "      <td>0</td>\n",
       "    </tr>\n",
       "    <tr>\n",
       "      <th>1</th>\n",
       "      <td>99197</td>\n",
       "      <td>GROCERY I</td>\n",
       "      <td>1067</td>\n",
       "      <td>0</td>\n",
       "    </tr>\n",
       "    <tr>\n",
       "      <th>2</th>\n",
       "      <td>103501</td>\n",
       "      <td>CLEANING</td>\n",
       "      <td>3008</td>\n",
       "      <td>0</td>\n",
       "    </tr>\n",
       "  </tbody>\n",
       "</table>\n",
       "</div>"
      ],
      "text/plain": [
       "   item_nbr     family  class  perishable\n",
       "0     96995  GROCERY I   1093           0\n",
       "1     99197  GROCERY I   1067           0\n",
       "2    103501   CLEANING   3008           0"
      ]
     },
     "execution_count": 4,
     "metadata": {},
     "output_type": "execute_result"
    },
    {
     "data": {
      "text/html": [
       "<div id=\"612655ef-ddc6-4021-8f81-cc114ace41b7\" style=\"height: 500px; width: 1000px;\" class=\"plotly-graph-div\"></div><script type=\"text/javascript\">require([\"plotly\"], function(Plotly) { window.PLOTLYENV=window.PLOTLYENV || {};window.PLOTLYENV.BASE_URL=\"https://plot.ly\";Plotly.newPlot(\"612655ef-ddc6-4021-8f81-cc114ace41b7\", [{\"type\": \"bar\", \"y\": [1, 1, 1, 4, 6, 8, 14, 14, 15, 17, 19, 20, 20, 21, 26, 26, 31, 41, 45, 54, 55, 73, 77, 84, 91, 108, 134, 153, 242, 306, 446, 613, 1334], \"x\": [\"BABY CARE\", \"BOOKS\", \"HOME APPLIANCES\", \"HARDWARE\", \"MAGAZINES\", \"SEAFOOD\", \"PET SUPPLIES\", \"GROCERY II\", \"SCHOOL AND OFFICE SUPPLIES\", \"PLAYERS AND ELECTRONICS\", \"BEAUTY\", \"LINGERIE\", \"AUTOMOTIVE\", \"LADIESWEAR\", \"PREPARED FOODS\", \"LAWN AND GARDEN\", \"CELEBRATION\", \"EGGS\", \"HOME AND KITCHEN II\", \"POULTRY\", \"FROZEN FOODS\", \"LIQUOR,WINE,BEER\", \"HOME AND KITCHEN I\", \"MEATS\", \"DELI\", \"HOME CARE\", \"BREAD/BAKERY\", \"PERSONAL CARE\", \"DAIRY\", \"PRODUCE\", \"CLEANING\", \"BEVERAGES\", \"GROCERY I\"], \"name\": \"perishable\", \"marker\": {\"color\": [0, 0, 0, 0, 0, 1, 0, 0, 0, 0, 0, 0, 0, 0, 1, 0, 0, 1, 0, 1, 0, 0, 0, 1, 1, 0, 1, 0, 1, 1, 0, 0, 0], \"colorscale\": \"Portland\", \"reversescale\": false}, \"orientation\": \"v\"}], {\"title\": \"Counts of items per family category\", \"width\": 1000, \"height\": 500, \"yaxis\": {\"showgrid\": false, \"showline\": false, \"showticklabels\": true}, \"showlegend\": true}, {\"showLink\": true, \"linkText\": \"Export to plot.ly\"})});</script>"
      ],
      "text/plain": [
       "<IPython.core.display.HTML object>"
      ]
     },
     "metadata": {},
     "output_type": "display_data"
    }
   ],
   "source": [
    "items.head(3)\n",
    "\n",
    "temp_df = items.groupby(['family', 'perishable']).size().reset_index().set_index(\"family\").sort_values(by = [0])\n",
    "trace1 = go.Bar(\n",
    "    y=temp_df[0],\n",
    "    x=temp_df.index,\n",
    "    name = \"perishable\",\n",
    "    marker=dict(\n",
    "        color=temp_df[\"perishable\"],\n",
    "        colorscale = 'Portland',\n",
    "        reversescale = False\n",
    "    ),\n",
    "    orientation='v'\n",
    ")\n",
    "\n",
    "layout = dict(\n",
    "    title='Counts of items per family category',\n",
    "     width = 1000, height = 500,\n",
    "    yaxis=dict(showgrid=False,showline=False,showticklabels=True),\n",
    "    showlegend = True\n",
    "    )\n",
    "\n",
    "fig1 = go.Figure(data=[trace1])\n",
    "fig1['layout'].update(layout)\n",
    "py.iplot(fig1, filename='plots')"
   ]
  },
  {
   "cell_type": "markdown",
   "metadata": {},
   "source": [
    "<img src=\"..\\image\\counts of items per family category.PNG\">"
   ]
  },
  {
   "cell_type": "code",
   "execution_count": 5,
   "metadata": {
    "collapsed": false,
    "scrolled": true
   },
   "outputs": [
    {
     "data": {
      "text/html": [
       "<div id=\"89b5ad1a-17bb-4399-95c2-3beb4d4e0923\" style=\"height: 500px; width: 1000px;\" class=\"plotly-graph-div\"></div><script type=\"text/javascript\">require([\"plotly\"], function(Plotly) { window.PLOTLYENV=window.PLOTLYENV || {};window.PLOTLYENV.BASE_URL=\"https://plot.ly\";Plotly.newPlot(\"89b5ad1a-17bb-4399-95c2-3beb4d4e0923\", [{\"type\": \"bar\", \"y\": [8, 26, 41, 54, 84, 91, 134, 242, 306], \"x\": [\"SEAFOOD\", \"PREPARED FOODS\", \"EGGS\", \"POULTRY\", \"MEATS\", \"DELI\", \"BREAD/BAKERY\", \"DAIRY\", \"PRODUCE\"], \"name\": \"perishable\", \"orientation\": \"v\"}, {\"type\": \"bar\", \"y\": [1, 1, 1, 4, 6, 14, 14, 15, 17, 19, 20, 20, 21, 26, 31, 45, 55, 73, 77, 108, 153, 446, 613, 1334], \"x\": [\"BABY CARE\", \"BOOKS\", \"HOME APPLIANCES\", \"HARDWARE\", \"MAGAZINES\", \"PET SUPPLIES\", \"GROCERY II\", \"SCHOOL AND OFFICE SUPPLIES\", \"PLAYERS AND ELECTRONICS\", \"BEAUTY\", \"LINGERIE\", \"AUTOMOTIVE\", \"LADIESWEAR\", \"LAWN AND GARDEN\", \"CELEBRATION\", \"HOME AND KITCHEN II\", \"FROZEN FOODS\", \"LIQUOR,WINE,BEER\", \"HOME AND KITCHEN I\", \"HOME CARE\", \"PERSONAL CARE\", \"CLEANING\", \"BEVERAGES\", \"GROCERY I\"], \"name\": \"not perishable\", \"orientation\": \"v\"}], {\"title\": \"Counts of items per family category\", \"width\": 1000, \"height\": 500, \"yaxis\": {\"showgrid\": false, \"showline\": false, \"showticklabels\": true}, \"showlegend\": true}, {\"showLink\": true, \"linkText\": \"Export to plot.ly\"})});</script>"
      ],
      "text/plain": [
       "<IPython.core.display.HTML object>"
      ]
     },
     "metadata": {},
     "output_type": "display_data"
    }
   ],
   "source": [
    "temp_df = items.groupby(['family', 'perishable']).size().reset_index().set_index(\"family\").sort_values(by = [0])\n",
    "trace1 = go.Bar(\n",
    "    y=temp_df[temp_df[\"perishable\"].isin([1])][0],\n",
    "    x=temp_df[temp_df[\"perishable\"].isin([1])].index,\n",
    "    name = \"perishable\",\n",
    "    orientation='v'\n",
    ")\n",
    "trace2 = go.Bar(\n",
    "    y=temp_df[temp_df[\"perishable\"].isin([0])][0],\n",
    "    x=temp_df[temp_df[\"perishable\"].isin([0])].index,\n",
    "    name = \"not perishable\",\n",
    "    orientation='v'\n",
    ")\n",
    "\n",
    "layout = dict(\n",
    "    title='Counts of items per family category',\n",
    "     width = 1000, height = 500,\n",
    "    yaxis=dict(showgrid=False,showline=False,showticklabels=True),\n",
    "    showlegend = True\n",
    "    )\n",
    "\n",
    "fig1 = go.Figure(data=[trace1,trace2])\n",
    "fig1['layout'].update(layout)\n",
    "py.iplot(fig1, filename='plots')"
   ]
  },
  {
   "cell_type": "code",
   "execution_count": 2,
   "metadata": {
    "collapsed": false
   },
   "outputs": [
    {
     "data": {
      "image/png": "[encoded data removed]",
      "text/plain": [
       "<IPython.core.display.Image object>"
      ]
     },
     "execution_count": 2,
     "metadata": {},
     "output_type": "execute_result"
    }
   ],
   "source": [
    "Image(filename='..\\image\\counts of items per family category2.PNG')"
   ]
  },
  {
   "cell_type": "markdown",
   "metadata": {},
   "source": [
    "## Store"
   ]
  },
  {
   "cell_type": "code",
   "execution_count": 110,
   "metadata": {
    "collapsed": false,
    "scrolled": false
   },
   "outputs": [
    {
     "data": {
      "text/html": [
       "<div>\n",
       "<style scoped>\n",
       "    .dataframe tbody tr th:only-of-type {\n",
       "        vertical-align: middle;\n",
       "    }\n",
       "\n",
       "    .dataframe tbody tr th {\n",
       "        vertical-align: top;\n",
       "    }\n",
       "\n",
       "    .dataframe thead th {\n",
       "        text-align: right;\n",
       "    }\n",
       "</style>\n",
       "<table border=\"1\" class=\"dataframe\">\n",
       "  <thead>\n",
       "    <tr style=\"text-align: right;\">\n",
       "      <th></th>\n",
       "      <th>store_nbr</th>\n",
       "      <th>city</th>\n",
       "      <th>state</th>\n",
       "      <th>type</th>\n",
       "      <th>cluster</th>\n",
       "    </tr>\n",
       "  </thead>\n",
       "  <tbody>\n",
       "    <tr>\n",
       "      <th>0</th>\n",
       "      <td>1</td>\n",
       "      <td>Quito</td>\n",
       "      <td>Pichincha</td>\n",
       "      <td>D</td>\n",
       "      <td>13</td>\n",
       "    </tr>\n",
       "    <tr>\n",
       "      <th>1</th>\n",
       "      <td>2</td>\n",
       "      <td>Quito</td>\n",
       "      <td>Pichincha</td>\n",
       "      <td>D</td>\n",
       "      <td>13</td>\n",
       "    </tr>\n",
       "    <tr>\n",
       "      <th>2</th>\n",
       "      <td>3</td>\n",
       "      <td>Quito</td>\n",
       "      <td>Pichincha</td>\n",
       "      <td>D</td>\n",
       "      <td>8</td>\n",
       "    </tr>\n",
       "  </tbody>\n",
       "</table>\n",
       "</div>"
      ],
      "text/plain": [
       "   store_nbr   city      state type  cluster\n",
       "0          1  Quito  Pichincha    D       13\n",
       "1          2  Quito  Pichincha    D       13\n",
       "2          3  Quito  Pichincha    D        8"
      ]
     },
     "execution_count": 110,
     "metadata": {},
     "output_type": "execute_result"
    },
    {
     "data": {
      "text/plain": [
       "Quito            18\n",
       "Guayaquil         8\n",
       "Cuenca            3\n",
       "Santo Domingo     3\n",
       "Manta             2\n",
       "Ambato            2\n",
       "Latacunga         2\n",
       "Machala           2\n",
       "Playas            1\n",
       "Libertad          1\n",
       "Babahoyo          1\n",
       "Puyo              1\n",
       "Cayambe           1\n",
       "El Carmen         1\n",
       "Loja              1\n",
       "Daule             1\n",
       "Esmeraldas        1\n",
       "Salinas           1\n",
       "Quevedo           1\n",
       "Riobamba          1\n",
       "Guaranda          1\n",
       "Ibarra            1\n",
       "Name: city, dtype: int64"
      ]
     },
     "execution_count": 110,
     "metadata": {},
     "output_type": "execute_result"
    },
    {
     "data": {
      "text/plain": [
       "Pichincha                         19\n",
       "Guayas                            11\n",
       "Santo Domingo de los Tsachilas     3\n",
       "Azuay                              3\n",
       "Manabi                             3\n",
       "El Oro                             2\n",
       "Tungurahua                         2\n",
       "Los Rios                           2\n",
       "Cotopaxi                           2\n",
       "Bolivar                            1\n",
       "Chimborazo                         1\n",
       "Esmeraldas                         1\n",
       "Loja                               1\n",
       "Imbabura                           1\n",
       "Pastaza                            1\n",
       "Santa Elena                        1\n",
       "Name: state, dtype: int64"
      ]
     },
     "execution_count": 110,
     "metadata": {},
     "output_type": "execute_result"
    },
    {
     "data": {
      "text/plain": [
       "3     7\n",
       "6     6\n",
       "10    6\n",
       "15    5\n",
       "14    4\n",
       "13    4\n",
       "1     3\n",
       "11    3\n",
       "8     3\n",
       "4     3\n",
       "2     2\n",
       "9     2\n",
       "7     2\n",
       "5     1\n",
       "16    1\n",
       "12    1\n",
       "17    1\n",
       "Name: cluster, dtype: int64"
      ]
     },
     "execution_count": 110,
     "metadata": {},
     "output_type": "execute_result"
    }
   ],
   "source": [
    "stores.head(3)\n",
    "stores[\"city\"].value_counts()\n",
    "stores[\"state\"].value_counts()\n",
    "stores[\"cluster\"].value_counts()"
   ]
  },
  {
   "cell_type": "code",
   "execution_count": 13,
   "metadata": {
    "collapsed": false,
    "scrolled": false
   },
   "outputs": [
    {
     "data": {
      "text/html": [
       "<div id=\"5ad1a72b-2106-4427-a50a-96979ec3021f\" style=\"height: 500px; width: 1000px;\" class=\"plotly-graph-div\"></div><script type=\"text/javascript\">require([\"plotly\"], function(Plotly) { window.PLOTLYENV=window.PLOTLYENV || {};window.PLOTLYENV.BASE_URL=\"https://plot.ly\";Plotly.newPlot(\"5ad1a72b-2106-4427-a50a-96979ec3021f\", [{\"type\": \"bar\", \"y\": [5.240333013430386, 5.371795166141251, 5.404586268760222, 5.506150367330292, 6.149058933040048, 6.2010990697032105, 6.346197547036842, 6.641134114290016, 6.905347917940378, 7.1939515741261175, 7.874202532566785, 8.151899509737678, 10.2967273501713, 10.33172880256058, 11.21130102184987, 12.482003200915596, 16.084329364276932], \"x\": [9, 15, 7, 16, 4, 2, 13, 3, 1, 10, 12, 6, 17, 8, 14, 11, 5], \"orientation\": \"v\"}], {\"title\": \"Average unit sales by cluster\", \"width\": 1000, \"height\": 500, \"yaxis\": {\"showgrid\": false, \"showline\": false, \"showticklabels\": true}, \"showlegend\": false}, {\"showLink\": true, \"linkText\": \"Export to plot.ly\"})});</script>"
      ],
      "text/plain": [
       "<IPython.core.display.HTML object>"
      ]
     },
     "metadata": {},
     "output_type": "display_data"
    }
   ],
   "source": [
    "temp_df = df.groupby('cluster')['unit_sales'].mean().reset_index().sort_values(by = [\"unit_sales\"])\n",
    "trace1 = go.Bar(\n",
    "    y=temp_df[\"unit_sales\"],\n",
    "    x=temp_df[\"cluster\"],\n",
    "    orientation='v'\n",
    ")\n",
    "layout = dict(\n",
    "    title='Average unit sales by cluster',\n",
    "    width = 1000, height = 500,\n",
    "    yaxis=dict(showgrid=False,showline=False,showticklabels=True),\n",
    "    showlegend = False\n",
    "    )\n",
    "\n",
    "fig1 = go.Figure(data=[trace1])\n",
    "fig1['layout'].update(layout)\n",
    "py.iplot(fig1, filename='plots')"
   ]
  },
  {
   "cell_type": "code",
   "execution_count": 4,
   "metadata": {
    "collapsed": false
   },
   "outputs": [
    {
     "data": {
      "image/png": "[encoded data removed]",
      "text/plain": [
       "<IPython.core.display.Image object>"
      ]
     },
     "execution_count": 4,
     "metadata": {},
     "output_type": "execute_result"
    }
   ],
   "source": [
    "Image(filename='../image/average unit sales by cluster.png')"
   ]
  },
  {
   "cell_type": "markdown",
   "metadata": {},
   "source": [
    "## Oil"
   ]
  },
  {
   "cell_type": "code",
   "execution_count": 17,
   "metadata": {
    "collapsed": false,
    "scrolled": false
   },
   "outputs": [
    {
     "data": {
      "text/html": [
       "<div>\n",
       "<style scoped>\n",
       "    .dataframe tbody tr th:only-of-type {\n",
       "        vertical-align: middle;\n",
       "    }\n",
       "\n",
       "    .dataframe tbody tr th {\n",
       "        vertical-align: top;\n",
       "    }\n",
       "\n",
       "    .dataframe thead th {\n",
       "        text-align: right;\n",
       "    }\n",
       "</style>\n",
       "<table border=\"1\" class=\"dataframe\">\n",
       "  <thead>\n",
       "    <tr style=\"text-align: right;\">\n",
       "      <th></th>\n",
       "      <th>date</th>\n",
       "      <th>dcoilwtico</th>\n",
       "    </tr>\n",
       "  </thead>\n",
       "  <tbody>\n",
       "    <tr>\n",
       "      <th>0</th>\n",
       "      <td>2013-01-01</td>\n",
       "      <td>NaN</td>\n",
       "    </tr>\n",
       "    <tr>\n",
       "      <th>1</th>\n",
       "      <td>2013-01-02</td>\n",
       "      <td>93.14</td>\n",
       "    </tr>\n",
       "    <tr>\n",
       "      <th>2</th>\n",
       "      <td>2013-01-03</td>\n",
       "      <td>92.97</td>\n",
       "    </tr>\n",
       "  </tbody>\n",
       "</table>\n",
       "</div>"
      ],
      "text/plain": [
       "         date  dcoilwtico\n",
       "0  2013-01-01         NaN\n",
       "1  2013-01-02       93.14\n",
       "2  2013-01-03       92.97"
      ]
     },
     "execution_count": 17,
     "metadata": {},
     "output_type": "execute_result"
    },
    {
     "data": {
      "text/html": [
       "<div id=\"a14a345d-0c36-4917-a8c6-29e62015754f\" style=\"height: 525px; width: 100%;\" class=\"plotly-graph-div\"></div><script type=\"text/javascript\">require([\"plotly\"], function(Plotly) { window.PLOTLYENV=window.PLOTLYENV || {};window.PLOTLYENV.BASE_URL=\"https://plot.ly\";Plotly.newPlot(\"a14a345d-0c36-4917-a8c6-29e62015754f\", [{\"type\": \"scatter\", \"name\": \"Oil prices\", \"x\": [\"2013-01-01\", \"2013-01-02\", \"2013-01-03\", \"2013-01-04\", \"2013-01-07\", \"2013-01-08\", \"2013-01-09\", \"2013-01-10\", \"2013-01-11\", \"2013-01-14\", \"2013-01-15\", \"2013-01-16\", \"2013-01-17\", \"2013-01-18\", \"2013-01-21\", \"2013-01-22\", \"2013-01-23\", \"2013-01-24\", \"2013-01-25\", \"2013-01-28\", \"2013-01-29\", \"2013-01-30\", \"2013-01-31\", \"2013-02-01\", \"2013-02-04\", \"2013-02-05\", \"2013-02-06\", \"2013-02-07\", \"2013-02-08\", \"2013-02-11\", \"2013-02-12\", \"2013-02-13\", \"2013-02-14\", \"2013-02-15\", \"2013-02-18\", \"2013-02-19\", \"2013-02-20\", \"2013-02-21\", \"2013-02-22\", \"2013-02-25\", \"2013-02-26\", \"2013-02-27\", \"2013-02-28\", \"2013-03-01\", \"2013-03-04\", \"2013-03-05\", \"2013-03-06\", \"2013-03-07\", \"2013-03-08\", \"2013-03-11\", \"2013-03-12\", \"2013-03-13\", \"2013-03-14\", \"2013-03-15\", \"2013-03-18\", \"2013-03-19\", \"2013-03-20\", \"2013-03-21\", \"2013-03-22\", \"2013-03-25\", \"2013-03-26\", \"2013-03-27\", \"2013-03-28\", \"2013-03-29\", \"2013-04-01\", \"2013-04-02\", \"2013-04-03\", \"2013-04-04\", \"2013-04-05\", \"2013-04-08\", \"2013-04-09\", \"2013-04-10\", \"2013-04-11\", \"2013-04-12\", \"2013-04-15\", \"2013-04-16\", \"2013-04-17\", \"2013-04-18\", \"2013-04-19\", \"2013-04-22\", \"2013-04-23\", \"2013-04-24\", \"2013-04-25\", \"2013-04-26\", \"2013-04-29\", \"2013-04-30\", \"2013-05-01\", \"2013-05-02\", \"2013-05-03\", \"2013-05-06\", \"2013-05-07\", \"2013-05-08\", \"2013-05-09\", \"2013-05-10\", \"2013-05-13\", \"2013-05-14\", \"2013-05-15\", \"2013-05-16\", \"2013-05-17\", \"2013-05-20\", \"2013-05-21\", \"2013-05-22\", \"2013-05-23\", \"2013-05-24\", \"2013-05-27\", \"2013-05-28\", \"2013-05-29\", \"2013-05-30\", \"2013-05-31\", \"2013-06-03\", \"2013-06-04\", \"2013-06-05\", \"2013-06-06\", \"2013-06-07\", \"2013-06-10\", \"2013-06-11\", \"2013-06-12\", \"2013-06-13\", \"2013-06-14\", \"2013-06-17\", \"2013-06-18\", \"2013-06-19\", \"2013-06-20\", \"2013-06-21\", \"2013-06-24\", \"2013-06-25\", \"2013-06-26\", \"2013-06-27\", \"2013-06-28\", \"2013-07-01\", \"2013-07-02\", \"2013-07-03\", \"2013-07-04\", \"2013-07-05\", \"2013-07-08\", \"2013-07-09\", \"2013-07-10\", \"2013-07-11\", \"2013-07-12\", \"2013-07-15\", \"2013-07-16\", \"2013-07-17\", \"2013-07-18\", \"2013-07-19\", \"2013-07-22\", \"2013-07-23\", \"2013-07-24\", \"2013-07-25\", \"2013-07-26\", \"2013-07-29\", \"2013-07-30\", \"2013-07-31\", \"2013-08-01\", \"2013-08-02\", \"2013-08-05\", \"2013-08-06\", \"2013-08-07\", \"2013-08-08\", \"2013-08-09\", \"2013-08-12\", \"2013-08-13\", \"2013-08-14\", \"2013-08-15\", \"2013-08-16\", \"2013-08-19\", \"2013-08-20\", \"2013-08-21\", \"2013-08-22\", \"2013-08-23\", \"2013-08-26\", \"2013-08-27\", \"2013-08-28\", \"2013-08-29\", \"2013-08-30\", \"2013-09-02\", \"2013-09-03\", \"2013-09-04\", \"2013-09-05\", \"2013-09-06\", \"2013-09-09\", \"2013-09-10\", \"2013-09-11\", \"2013-09-12\", \"2013-09-13\", \"2013-09-16\", \"2013-09-17\", \"2013-09-18\", \"2013-09-19\", \"2013-09-20\", \"2013-09-23\", \"2013-09-24\", \"2013-09-25\", \"2013-09-26\", \"2013-09-27\", \"2013-09-30\", \"2013-10-01\", \"2013-10-02\", \"2013-10-03\", \"2013-10-04\", \"2013-10-07\", \"2013-10-08\", \"2013-10-09\", \"2013-10-10\", \"2013-10-11\", \"2013-10-14\", \"2013-10-15\", \"2013-10-16\", \"2013-10-17\", \"2013-10-18\", \"2013-10-21\", \"2013-10-22\", \"2013-10-23\", \"2013-10-24\", \"2013-10-25\", \"2013-10-28\", \"2013-10-29\", \"2013-10-30\", \"2013-10-31\", \"2013-11-01\", \"2013-11-04\", \"2013-11-05\", \"2013-11-06\", \"2013-11-07\", \"2013-11-08\", \"2013-11-11\", \"2013-11-12\", \"2013-11-13\", \"2013-11-14\", \"2013-11-15\", \"2013-11-18\", \"2013-11-19\", \"2013-11-20\", \"2013-11-21\", \"2013-11-22\", \"2013-11-25\", \"2013-11-26\", \"2013-11-27\", \"2013-11-28\", \"2013-11-29\", \"2013-12-02\", \"2013-12-03\", \"2013-12-04\", \"2013-12-05\", \"2013-12-06\", \"2013-12-09\", \"2013-12-10\", \"2013-12-11\", \"2013-12-12\", \"2013-12-13\", \"2013-12-16\", \"2013-12-17\", \"2013-12-18\", \"2013-12-19\", \"2013-12-20\", \"2013-12-23\", \"2013-12-24\", \"2013-12-25\", \"2013-12-26\", \"2013-12-27\", \"2013-12-30\", \"2013-12-31\", \"2014-01-01\", \"2014-01-02\", \"2014-01-03\", \"2014-01-06\", \"2014-01-07\", \"2014-01-08\", \"2014-01-09\", \"2014-01-10\", \"2014-01-13\", \"2014-01-14\", \"2014-01-15\", \"2014-01-16\", \"2014-01-17\", \"2014-01-20\", \"2014-01-21\", \"2014-01-22\", \"2014-01-23\", \"2014-01-24\", \"2014-01-27\", \"2014-01-28\", \"2014-01-29\", \"2014-01-30\", \"2014-01-31\", \"2014-02-03\", \"2014-02-04\", \"2014-02-05\", \"2014-02-06\", \"2014-02-07\", \"2014-02-10\", \"2014-02-11\", \"2014-02-12\", \"2014-02-13\", \"2014-02-14\", \"2014-02-17\", \"2014-02-18\", \"2014-02-19\", \"2014-02-20\", \"2014-02-21\", \"2014-02-24\", \"2014-02-25\", \"2014-02-26\", \"2014-02-27\", \"2014-02-28\", \"2014-03-03\", \"2014-03-04\", \"2014-03-05\", \"2014-03-06\", \"2014-03-07\", \"2014-03-10\", \"2014-03-11\", \"2014-03-12\", \"2014-03-13\", \"2014-03-14\", \"2014-03-17\", \"2014-03-18\", \"2014-03-19\", \"2014-03-20\", \"2014-03-21\", \"2014-03-24\", \"2014-03-25\", \"2014-03-26\", \"2014-03-27\", \"2014-03-28\", \"2014-03-31\", \"2014-04-01\", \"2014-04-02\", \"2014-04-03\", \"2014-04-04\", \"2014-04-07\", \"2014-04-08\", \"2014-04-09\", \"2014-04-10\", \"2014-04-11\", \"2014-04-14\", \"2014-04-15\", \"2014-04-16\", \"2014-04-17\", \"2014-04-18\", \"2014-04-21\", \"2014-04-22\", \"2014-04-23\", \"2014-04-24\", \"2014-04-25\", \"2014-04-28\", \"2014-04-29\", \"2014-04-30\", \"2014-05-01\", \"2014-05-02\", \"2014-05-05\", \"2014-05-06\", \"2014-05-07\", \"2014-05-08\", \"2014-05-09\", \"2014-05-12\", \"2014-05-13\", \"2014-05-14\", \"2014-05-15\", \"2014-05-16\", \"2014-05-19\", \"2014-05-20\", \"2014-05-21\", \"2014-05-22\", \"2014-05-23\", \"2014-05-26\", \"2014-05-27\", \"2014-05-28\", \"2014-05-29\", \"2014-05-30\", \"2014-06-02\", \"2014-06-03\", \"2014-06-04\", \"2014-06-05\", \"2014-06-06\", \"2014-06-09\", \"2014-06-10\", \"2014-06-11\", \"2014-06-12\", \"2014-06-13\", \"2014-06-16\", \"2014-06-17\", \"2014-06-18\", \"2014-06-19\", \"2014-06-20\", \"2014-06-23\", \"2014-06-24\", \"2014-06-25\", \"2014-06-26\", \"2014-06-27\", \"2014-06-30\", \"2014-07-01\", \"2014-07-02\", \"2014-07-03\", \"2014-07-04\", \"2014-07-07\", \"2014-07-08\", \"2014-07-09\", \"2014-07-10\", \"2014-07-11\", \"2014-07-14\", \"2014-07-15\", \"2014-07-16\", \"2014-07-17\", \"2014-07-18\", \"2014-07-21\", \"2014-07-22\", \"2014-07-23\", \"2014-07-24\", \"2014-07-25\", \"2014-07-28\", \"2014-07-29\", \"2014-07-30\", \"2014-07-31\", \"2014-08-01\", \"2014-08-04\", \"2014-08-05\", \"2014-08-06\", \"2014-08-07\", \"2014-08-08\", \"2014-08-11\", \"2014-08-12\", \"2014-08-13\", \"2014-08-14\", \"2014-08-15\", \"2014-08-18\", \"2014-08-19\", \"2014-08-20\", \"2014-08-21\", \"2014-08-22\", \"2014-08-25\", \"2014-08-26\", \"2014-08-27\", \"2014-08-28\", \"2014-08-29\", \"2014-09-01\", \"2014-09-02\", \"2014-09-03\", \"2014-09-04\", \"2014-09-05\", \"2014-09-08\", \"2014-09-09\", \"2014-09-10\", \"2014-09-11\", \"2014-09-12\", \"2014-09-15\", \"2014-09-16\", \"2014-09-17\", \"2014-09-18\", \"2014-09-19\", \"2014-09-22\", \"2014-09-23\", \"2014-09-24\", \"2014-09-25\", \"2014-09-26\", \"2014-09-29\", \"2014-09-30\", \"2014-10-01\", \"2014-10-02\", \"2014-10-03\", \"2014-10-06\", \"2014-10-07\", \"2014-10-08\", \"2014-10-09\", \"2014-10-10\", \"2014-10-13\", \"2014-10-14\", \"2014-10-15\", \"2014-10-16\", \"2014-10-17\", \"2014-10-20\", \"2014-10-21\", \"2014-10-22\", \"2014-10-23\", \"2014-10-24\", \"2014-10-27\", \"2014-10-28\", \"2014-10-29\", \"2014-10-30\", \"2014-10-31\", \"2014-11-03\", \"2014-11-04\", \"2014-11-05\", \"2014-11-06\", \"2014-11-07\", \"2014-11-10\", \"2014-11-11\", \"2014-11-12\", \"2014-11-13\", \"2014-11-14\", \"2014-11-17\", \"2014-11-18\", \"2014-11-19\", \"2014-11-20\", \"2014-11-21\", \"2014-11-24\", \"2014-11-25\", \"2014-11-26\", \"2014-11-27\", \"2014-11-28\", \"2014-12-01\", \"2014-12-02\", \"2014-12-03\", \"2014-12-04\", \"2014-12-05\", \"2014-12-08\", \"2014-12-09\", \"2014-12-10\", \"2014-12-11\", \"2014-12-12\", \"2014-12-15\", \"2014-12-16\", \"2014-12-17\", \"2014-12-18\", \"2014-12-19\", \"2014-12-22\", \"2014-12-23\", \"2014-12-24\", \"2014-12-25\", \"2014-12-26\", \"2014-12-29\", \"2014-12-30\", \"2014-12-31\", \"2015-01-01\", \"2015-01-02\", \"2015-01-05\", \"2015-01-06\", \"2015-01-07\", \"2015-01-08\", \"2015-01-09\", \"2015-01-12\", \"2015-01-13\", \"2015-01-14\", \"2015-01-15\", \"2015-01-16\", \"2015-01-19\", \"2015-01-20\", \"2015-01-21\", \"2015-01-22\", \"2015-01-23\", \"2015-01-26\", \"2015-01-27\", \"2015-01-28\", \"2015-01-29\", \"2015-01-30\", \"2015-02-02\", \"2015-02-03\", \"2015-02-04\", \"2015-02-05\", \"2015-02-06\", \"2015-02-09\", \"2015-02-10\", \"2015-02-11\", \"2015-02-12\", \"2015-02-13\", \"2015-02-16\", \"2015-02-17\", \"2015-02-18\", \"2015-02-19\", \"2015-02-20\", \"2015-02-23\", \"2015-02-24\", \"2015-02-25\", \"2015-02-26\", \"2015-02-27\", \"2015-03-02\", \"2015-03-03\", \"2015-03-04\", \"2015-03-05\", \"2015-03-06\", \"2015-03-09\", \"2015-03-10\", \"2015-03-11\", \"2015-03-12\", \"2015-03-13\", \"2015-03-16\", \"2015-03-17\", \"2015-03-18\", \"2015-03-19\", \"2015-03-20\", \"2015-03-23\", \"2015-03-24\", \"2015-03-25\", \"2015-03-26\", \"2015-03-27\", \"2015-03-30\", \"2015-03-31\", \"2015-04-01\", \"2015-04-02\", \"2015-04-03\", \"2015-04-06\", \"2015-04-07\", \"2015-04-08\", \"2015-04-09\", \"2015-04-10\", \"2015-04-13\", \"2015-04-14\", \"2015-04-15\", \"2015-04-16\", \"2015-04-17\", \"2015-04-20\", \"2015-04-21\", \"2015-04-22\", \"2015-04-23\", \"2015-04-24\", \"2015-04-27\", \"2015-04-28\", \"2015-04-29\", \"2015-04-30\", \"2015-05-01\", \"2015-05-04\", \"2015-05-05\", \"2015-05-06\", \"2015-05-07\", \"2015-05-08\", \"2015-05-11\", \"2015-05-12\", \"2015-05-13\", \"2015-05-14\", \"2015-05-15\", \"2015-05-18\", \"2015-05-19\", \"2015-05-20\", \"2015-05-21\", \"2015-05-22\", \"2015-05-25\", \"2015-05-26\", \"2015-05-27\", \"2015-05-28\", \"2015-05-29\", \"2015-06-01\", \"2015-06-02\", \"2015-06-03\", \"2015-06-04\", \"2015-06-05\", \"2015-06-08\", \"2015-06-09\", \"2015-06-10\", \"2015-06-11\", \"2015-06-12\", \"2015-06-15\", \"2015-06-16\", \"2015-06-17\", \"2015-06-18\", \"2015-06-19\", \"2015-06-22\", \"2015-06-23\", \"2015-06-24\", \"2015-06-25\", \"2015-06-26\", \"2015-06-29\", \"2015-06-30\", \"2015-07-01\", \"2015-07-02\", \"2015-07-03\", \"2015-07-06\", \"2015-07-07\", \"2015-07-08\", \"2015-07-09\", \"2015-07-10\", \"2015-07-13\", \"2015-07-14\", \"2015-07-15\", \"2015-07-16\", \"2015-07-17\", \"2015-07-20\", \"2015-07-21\", \"2015-07-22\", \"2015-07-23\", \"2015-07-24\", \"2015-07-27\", \"2015-07-28\", \"2015-07-29\", \"2015-07-30\", \"2015-07-31\", \"2015-08-03\", \"2015-08-04\", \"2015-08-05\", \"2015-08-06\", \"2015-08-07\", \"2015-08-10\", \"2015-08-11\", \"2015-08-12\", \"2015-08-13\", \"2015-08-14\", \"2015-08-17\", \"2015-08-18\", \"2015-08-19\", \"2015-08-20\", \"2015-08-21\", \"2015-08-24\", \"2015-08-25\", \"2015-08-26\", \"2015-08-27\", \"2015-08-28\", \"2015-08-31\", \"2015-09-01\", \"2015-09-02\", \"2015-09-03\", \"2015-09-04\", \"2015-09-07\", \"2015-09-08\", \"2015-09-09\", \"2015-09-10\", \"2015-09-11\", \"2015-09-14\", \"2015-09-15\", \"2015-09-16\", \"2015-09-17\", \"2015-09-18\", \"2015-09-21\", \"2015-09-22\", \"2015-09-23\", \"2015-09-24\", \"2015-09-25\", \"2015-09-28\", \"2015-09-29\", \"2015-09-30\", \"2015-10-01\", \"2015-10-02\", \"2015-10-05\", \"2015-10-06\", \"2015-10-07\", \"2015-10-08\", \"2015-10-09\", \"2015-10-12\", \"2015-10-13\", \"2015-10-14\", \"2015-10-15\", \"2015-10-16\", \"2015-10-19\", \"2015-10-20\", \"2015-10-21\", \"2015-10-22\", \"2015-10-23\", \"2015-10-26\", \"2015-10-27\", \"2015-10-28\", \"2015-10-29\", \"2015-10-30\", \"2015-11-02\", \"2015-11-03\", \"2015-11-04\", \"2015-11-05\", \"2015-11-06\", \"2015-11-09\", \"2015-11-10\", \"2015-11-11\", \"2015-11-12\", \"2015-11-13\", \"2015-11-16\", \"2015-11-17\", \"2015-11-18\", \"2015-11-19\", \"2015-11-20\", \"2015-11-23\", \"2015-11-24\", \"2015-11-25\", \"2015-11-26\", \"2015-11-27\", \"2015-11-30\", \"2015-12-01\", \"2015-12-02\", \"2015-12-03\", \"2015-12-04\", \"2015-12-07\", \"2015-12-08\", \"2015-12-09\", \"2015-12-10\", \"2015-12-11\", \"2015-12-14\", \"2015-12-15\", \"2015-12-16\", \"2015-12-17\", \"2015-12-18\", \"2015-12-21\", \"2015-12-22\", \"2015-12-23\", \"2015-12-24\", \"2015-12-25\", \"2015-12-28\", \"2015-12-29\", \"2015-12-30\", \"2015-12-31\", \"2016-01-01\", \"2016-01-04\", \"2016-01-05\", \"2016-01-06\", \"2016-01-07\", \"2016-01-08\", \"2016-01-11\", \"2016-01-12\", \"2016-01-13\", \"2016-01-14\", \"2016-01-15\", \"2016-01-18\", \"2016-01-19\", \"2016-01-20\", \"2016-01-21\", \"2016-01-22\", \"2016-01-25\", \"2016-01-26\", \"2016-01-27\", \"2016-01-28\", \"2016-01-29\", \"2016-02-01\", \"2016-02-02\", \"2016-02-03\", \"2016-02-04\", \"2016-02-05\", \"2016-02-08\", \"2016-02-09\", \"2016-02-10\", \"2016-02-11\", \"2016-02-12\", \"2016-02-15\", \"2016-02-16\", \"2016-02-17\", \"2016-02-18\", \"2016-02-19\", \"2016-02-22\", \"2016-02-23\", \"2016-02-24\", \"2016-02-25\", \"2016-02-26\", \"2016-02-29\", \"2016-03-01\", \"2016-03-02\", \"2016-03-03\", \"2016-03-04\", \"2016-03-07\", \"2016-03-08\", \"2016-03-09\", \"2016-03-10\", \"2016-03-11\", \"2016-03-14\", \"2016-03-15\", \"2016-03-16\", \"2016-03-17\", \"2016-03-18\", \"2016-03-21\", \"2016-03-22\", \"2016-03-23\", \"2016-03-24\", \"2016-03-25\", \"2016-03-28\", \"2016-03-29\", \"2016-03-30\", \"2016-03-31\", \"2016-04-01\", \"2016-04-04\", \"2016-04-05\", \"2016-04-06\", \"2016-04-07\", \"2016-04-08\", \"2016-04-11\", \"2016-04-12\", \"2016-04-13\", \"2016-04-14\", \"2016-04-15\", \"2016-04-18\", \"2016-04-19\", \"2016-04-20\", \"2016-04-21\", \"2016-04-22\", \"2016-04-25\", \"2016-04-26\", \"2016-04-27\", \"2016-04-28\", \"2016-04-29\", \"2016-05-02\", \"2016-05-03\", \"2016-05-04\", \"2016-05-05\", \"2016-05-06\", \"2016-05-09\", \"2016-05-10\", \"2016-05-11\", \"2016-05-12\", \"2016-05-13\", \"2016-05-16\", \"2016-05-17\", \"2016-05-18\", \"2016-05-19\", \"2016-05-20\", \"2016-05-23\", \"2016-05-24\", \"2016-05-25\", \"2016-05-26\", \"2016-05-27\", \"2016-05-30\", \"2016-05-31\", \"2016-06-01\", \"2016-06-02\", \"2016-06-03\", \"2016-06-06\", \"2016-06-07\", \"2016-06-08\", \"2016-06-09\", \"2016-06-10\", \"2016-06-13\", \"2016-06-14\", \"2016-06-15\", \"2016-06-16\", \"2016-06-17\", \"2016-06-20\", \"2016-06-21\", \"2016-06-22\", \"2016-06-23\", \"2016-06-24\", \"2016-06-27\", \"2016-06-28\", \"2016-06-29\", \"2016-06-30\", \"2016-07-01\", \"2016-07-04\", \"2016-07-05\", \"2016-07-06\", \"2016-07-07\", \"2016-07-08\", \"2016-07-11\", \"2016-07-12\", \"2016-07-13\", \"2016-07-14\", \"2016-07-15\", \"2016-07-18\", \"2016-07-19\", \"2016-07-20\", \"2016-07-21\", \"2016-07-22\", \"2016-07-25\", \"2016-07-26\", \"2016-07-27\", \"2016-07-28\", \"2016-07-29\", \"2016-08-01\", \"2016-08-02\", \"2016-08-03\", \"2016-08-04\", \"2016-08-05\", \"2016-08-08\", \"2016-08-09\", \"2016-08-10\", \"2016-08-11\", \"2016-08-12\", \"2016-08-15\", \"2016-08-16\", \"2016-08-17\", \"2016-08-18\", \"2016-08-19\", \"2016-08-22\", \"2016-08-23\", \"2016-08-24\", \"2016-08-25\", \"2016-08-26\", \"2016-08-29\", \"2016-08-30\", \"2016-08-31\", \"2016-09-01\", \"2016-09-02\", \"2016-09-05\", \"2016-09-06\", \"2016-09-07\", \"2016-09-08\", \"2016-09-09\", \"2016-09-12\", \"2016-09-13\", \"2016-09-14\", \"2016-09-15\", \"2016-09-16\", \"2016-09-19\", \"2016-09-20\", \"2016-09-21\", \"2016-09-22\", \"2016-09-23\", \"2016-09-26\", \"2016-09-27\", \"2016-09-28\", \"2016-09-29\", \"2016-09-30\", \"2016-10-03\", \"2016-10-04\", \"2016-10-05\", \"2016-10-06\", \"2016-10-07\", \"2016-10-10\", \"2016-10-11\", \"2016-10-12\", \"2016-10-13\", \"2016-10-14\", \"2016-10-17\", \"2016-10-18\", \"2016-10-19\", \"2016-10-20\", \"2016-10-21\", \"2016-10-24\", \"2016-10-25\", \"2016-10-26\", \"2016-10-27\", \"2016-10-28\", \"2016-10-31\", \"2016-11-01\", \"2016-11-02\", \"2016-11-03\", \"2016-11-04\", \"2016-11-07\", \"2016-11-08\", \"2016-11-09\", \"2016-11-10\", \"2016-11-11\", \"2016-11-14\", \"2016-11-15\", \"2016-11-16\", \"2016-11-17\", \"2016-11-18\", \"2016-11-21\", \"2016-11-22\", \"2016-11-23\", \"2016-11-24\", \"2016-11-25\", \"2016-11-28\", \"2016-11-29\", \"2016-11-30\", \"2016-12-01\", \"2016-12-02\", \"2016-12-05\", \"2016-12-06\", \"2016-12-07\", \"2016-12-08\", \"2016-12-09\", \"2016-12-12\", \"2016-12-13\", \"2016-12-14\", \"2016-12-15\", \"2016-12-16\", \"2016-12-19\", \"2016-12-20\", \"2016-12-21\", \"2016-12-22\", \"2016-12-23\", \"2016-12-26\", \"2016-12-27\", \"2016-12-28\", \"2016-12-29\", \"2016-12-30\", \"2017-01-02\", \"2017-01-03\", \"2017-01-04\", \"2017-01-05\", \"2017-01-06\", \"2017-01-09\", \"2017-01-10\", \"2017-01-11\", \"2017-01-12\", \"2017-01-13\", \"2017-01-16\", \"2017-01-17\", \"2017-01-18\", \"2017-01-19\", \"2017-01-20\", \"2017-01-23\", \"2017-01-24\", \"2017-01-25\", \"2017-01-26\", \"2017-01-27\", \"2017-01-30\", \"2017-01-31\", \"2017-02-01\", \"2017-02-02\", \"2017-02-03\", \"2017-02-06\", \"2017-02-07\", \"2017-02-08\", \"2017-02-09\", \"2017-02-10\", \"2017-02-13\", \"2017-02-14\", \"2017-02-15\", \"2017-02-16\", \"2017-02-17\", \"2017-02-20\", \"2017-02-21\", \"2017-02-22\", \"2017-02-23\", \"2017-02-24\", \"2017-02-27\", \"2017-02-28\", \"2017-03-01\", \"2017-03-02\", \"2017-03-03\", \"2017-03-06\", \"2017-03-07\", \"2017-03-08\", \"2017-03-09\", \"2017-03-10\", \"2017-03-13\", \"2017-03-14\", \"2017-03-15\", \"2017-03-16\", \"2017-03-17\", \"2017-03-20\", \"2017-03-21\", \"2017-03-22\", \"2017-03-23\", \"2017-03-24\", \"2017-03-27\", \"2017-03-28\", \"2017-03-29\", \"2017-03-30\", \"2017-03-31\", \"2017-04-03\", \"2017-04-04\", \"2017-04-05\", \"2017-04-06\", \"2017-04-07\", \"2017-04-10\", \"2017-04-11\", \"2017-04-12\", \"2017-04-13\", \"2017-04-14\", \"2017-04-17\", \"2017-04-18\", \"2017-04-19\", \"2017-04-20\", \"2017-04-21\", \"2017-04-24\", \"2017-04-25\", \"2017-04-26\", \"2017-04-27\", \"2017-04-28\", \"2017-05-01\", \"2017-05-02\", \"2017-05-03\", \"2017-05-04\", \"2017-05-05\", \"2017-05-08\", \"2017-05-09\", \"2017-05-10\", \"2017-05-11\", \"2017-05-12\", \"2017-05-15\", \"2017-05-16\", \"2017-05-17\", \"2017-05-18\", \"2017-05-19\", \"2017-05-22\", \"2017-05-23\", \"2017-05-24\", \"2017-05-25\", \"2017-05-26\", \"2017-05-29\", \"2017-05-30\", \"2017-05-31\", \"2017-06-01\", \"2017-06-02\", \"2017-06-05\", \"2017-06-06\", \"2017-06-07\", \"2017-06-08\", \"2017-06-09\", \"2017-06-12\", \"2017-06-13\", \"2017-06-14\", \"2017-06-15\", \"2017-06-16\", \"2017-06-19\", \"2017-06-20\", \"2017-06-21\", \"2017-06-22\", \"2017-06-23\", \"2017-06-26\", \"2017-06-27\", \"2017-06-28\", \"2017-06-29\", \"2017-06-30\", \"2017-07-03\", \"2017-07-04\", \"2017-07-05\", \"2017-07-06\", \"2017-07-07\", \"2017-07-10\", \"2017-07-11\", \"2017-07-12\", \"2017-07-13\", \"2017-07-14\", \"2017-07-17\", \"2017-07-18\", \"2017-07-19\", \"2017-07-20\", \"2017-07-21\", \"2017-07-24\", \"2017-07-25\", \"2017-07-26\", \"2017-07-27\", \"2017-07-28\", \"2017-07-31\", \"2017-08-01\", \"2017-08-02\", \"2017-08-03\", \"2017-08-04\", \"2017-08-07\", \"2017-08-08\", \"2017-08-09\", \"2017-08-10\", \"2017-08-11\", \"2017-08-14\", \"2017-08-15\", \"2017-08-16\", \"2017-08-17\", \"2017-08-18\", \"2017-08-21\", \"2017-08-22\", \"2017-08-23\", \"2017-08-24\", \"2017-08-25\", \"2017-08-28\", \"2017-08-29\", \"2017-08-30\", \"2017-08-31\"], \"y\": [93.14, 92.97, 93.12, 93.2, 93.21, 93.08, 93.81, 93.6, 94.27, 93.26, 94.28, 95.49, 95.61, 96.09, 95.06, 95.35, 95.15, 95.95, 97.62, 97.98, 97.65, 97.46, 96.21, 96.68, 96.44, 95.84, 95.71, 97.01, 97.48, 97.03, 97.3, 95.95, 96.69, 94.92, 92.79, 93.12, 92.74, 92.63, 92.84, 92.03, 90.71, 90.13, 90.88, 90.47, 91.53, 92.01, 92.07, 92.44, 92.47, 93.03, 93.49, 93.71, 92.44, 93.21, 92.46, 93.41, 94.55, 95.99, 96.53, 97.24, 97.1, 97.23, 95.02, 93.26, 92.76, 93.36, 94.18, 94.59, 93.44, 91.23, 88.75, 88.73, 86.65, 87.83, 88.04, 88.81, 89.21, 91.07, 93.27, 92.63, 94.09, 93.22, 90.74, 93.7, 95.25, 95.8, 95.28, 96.24, 96.09, 95.81, 94.76, 93.96, 93.95, 94.85, 95.72, 96.29, 95.55, 93.98, 94.12, 93.84, 94.65, 93.13, 93.57, 91.93, 93.41, 93.36, 93.66, 94.71, 96.11, 95.82, 95.5, 95.98, 96.66, 97.83, 97.86, 98.46, 98.24, 94.89, 93.81, 95.07, 95.25, 95.47, 97.0, 96.36, 97.94, 99.65, 101.92, 103.09, 103.03, 103.46, 106.41, 104.77, 105.85, 106.2, 105.88, 106.39, 107.94, 108.0, 106.61, 107.13, 105.41, 105.47, 104.76, 104.61, 103.14, 105.1, 107.93, 106.94, 106.61, 105.32, 104.41, 103.45, 106.04, 106.19, 106.78, 106.89, 107.43, 107.58, 107.14, 104.9, 103.93, 104.93, 106.48, 105.88, 109.11, 110.17, 108.51, 107.98, 108.67, 107.29, 108.5, 110.62, 109.62, 107.48, 107.65, 108.72, 108.31, 106.54, 105.36, 108.23, 106.26, 104.7, 103.62, 103.22, 102.68, 103.1, 102.86, 102.36, 102.09, 104.15, 103.29, 103.83, 103.07, 103.54, 101.63, 103.08, 102.17, 102.46, 101.15, 102.34, 100.72, 100.87, 99.28, 97.63, 96.9, 96.65, 97.4, 98.74, 98.29, 96.81, 96.29, 94.56, 94.58, 93.4, 94.74, 94.25, 94.56, 95.13, 93.12, 93.91, 93.76, 93.8, 93.03, 93.35, 93.34, 95.35, 94.53, 93.86, 93.41, 92.05, 92.55, 93.61, 95.83, 96.97, 97.14, 97.48, 97.1, 98.32, 97.25, 97.21, 96.27, 97.18, 96.99, 97.59, 98.4, 99.11, 98.62, 98.87, 99.18, 99.94, 98.9, 98.17, 95.14, 93.66, 93.12, 93.31, 91.9, 91.36, 92.39, 91.45, 92.15, 93.78, 93.54, 93.96, 94.51, 96.35, 97.23, 96.66, 95.82, 97.49, 97.34, 98.25, 97.55, 96.44, 97.24, 97.4, 97.84, 99.98, 100.12, 99.96, 100.38, 100.27, 100.31, 102.54, 103.46, 103.2, 102.53, 103.17, 102.2, 102.93, 102.68, 102.88, 105.34, 103.64, 101.75, 101.82, 102.82, 101.39, 100.29, 98.29, 98.57, 99.23, 98.43, 100.08, 100.71, 99.68, 99.97, 100.05, 99.66, 100.61, 101.25, 101.73, 101.57, 99.69, 99.6, 100.29, 101.16, 100.43, 102.57, 103.55, 103.37, 103.68, 104.05, 103.7, 103.71, 104.33, 104.35, 101.69, 101.47, 102.2, 100.85, 101.13, 101.56, 100.07, 99.69, 100.09, 99.74, 99.81, 101.06, 100.52, 100.32, 100.89, 102.01, 102.63, 101.74, 102.31, 102.95, 102.8, 104.31, 104.03, 105.01, 104.78, 103.37, 104.26, 103.4, 103.07, 103.34, 103.27, 103.17, 103.32, 105.09, 105.02, 105.04, 107.2, 107.49, 107.52, 106.95, 106.64, 107.08, 107.95, 106.83, 106.64, 107.04, 106.49, 106.46, 106.07, 106.06, 105.18, 104.76, 104.19, 104.06, 102.93, 103.61, 101.48, 101.73, 100.56, 101.88, 103.84, 103.83, 105.34, 104.59, 103.81, 102.76, 105.23, 105.68, 104.91, 104.29, 98.23, 97.86, 98.26, 97.34, 96.93, 97.34, 97.61, 98.09, 97.36, 97.57, 95.54, 97.3, 96.44, 94.35, 96.4, 93.97, 93.61, 95.39, 95.78, 95.82, 96.44, 97.86, 92.92, 95.5, 94.51, 93.32, 92.64, 92.73, 91.71, 92.89, 92.18, 92.86, 94.91, 94.33, 93.07, 92.43, 91.46, 91.55, 93.6, 93.59, 95.55, 94.53, 91.17, 90.74, 91.02, 89.76, 90.33, 88.89, 87.29, 85.76, 85.87, 85.73, 81.72, 81.82, 82.33, 82.8, 82.76, 83.25, 80.52, 82.81, 81.27, 81.26, 81.36, 82.25, 81.06, 80.53, 78.77, 77.15, 78.71, 77.87, 78.71, 77.43, 77.85, 77.16, 74.13, 75.91, 75.64, 74.55, 74.55, 75.63, 76.52, 75.74, 74.04, 73.7, 65.94, 68.98, 66.99, 67.3, 66.73, 65.89, 63.13, 63.74, 60.99, 60.01, 57.81, 55.96, 55.97, 56.43, 54.18, 56.91, 55.25, 56.78, 55.7, 54.59, 53.46, 54.14, 53.45, 52.72, 50.05, 47.98, 48.69, 48.8, 48.35, 46.06, 45.92, 48.49, 46.37, 48.49, 46.79, 47.85, 45.93, 45.26, 44.8, 45.84, 44.08, 44.12, 47.79, 49.25, 53.04, 48.45, 50.48, 51.66, 52.99, 50.06, 48.8, 51.17, 52.66, 53.56, 52.13, 51.12, 49.95, 49.56, 48.48, 50.25, 47.65, 49.84, 49.59, 50.43, 51.53, 50.76, 49.61, 49.95, 48.42, 48.06, 47.12, 44.88, 43.93, 43.39, 44.63, 44.02, 46.0, 47.4, 47.03, 48.75, 51.41, 48.83, 48.66, 47.72, 50.12, 49.13, 52.08, 53.95, 50.44, 50.79, 51.63, 51.95, 53.3, 56.25, 56.69, 55.71, 56.37, 55.58, 56.17, 56.59, 55.98, 55.56, 57.05, 58.55, 59.62, 59.1, 58.92, 60.38, 60.93, 58.99, 59.41, 59.23, 60.72, 60.5, 59.89, 59.73, 59.44, 57.3, 58.96, 60.18, 58.88, 57.29, 57.51, 57.69, 60.25, 60.24, 61.3, 59.67, 58.0, 59.11, 58.15, 60.15, 61.36, 60.74, 59.96, 59.53, 60.01, 59.89, 60.41, 59.62, 60.01, 61.05, 60.01, 59.59, 59.41, 58.34, 59.48, 56.94, 56.93, 52.48, 52.33, 51.61, 52.76, 52.74, 52.19, 53.05, 51.4, 50.9, 50.88, 50.11, 50.59, 49.27, 48.11, 47.98, 47.17, 47.97, 48.77, 48.53, 47.11, 45.25, 45.75, 45.13, 44.69, 43.87, 44.94, 43.11, 43.22, 42.27, 42.45, 41.93, 42.58, 40.75, 41.0, 40.45, 38.22, 39.15, 38.5, 42.47, 45.29, 49.2, 45.38, 46.3, 46.75, 46.02, 45.92, 44.13, 45.85, 44.75, 44.07, 44.58, 47.12, 46.93, 44.71, 46.67, 46.17, 44.53, 44.94, 45.55, 44.4, 45.24, 45.06, 44.75, 45.54, 46.28, 48.53, 47.86, 49.46, 49.67, 47.09, 46.7, 46.63, 46.38, 47.3, 45.91, 45.84, 45.22, 44.9, 43.91, 43.19, 43.21, 45.93, 46.02, 46.6, 46.12, 47.88, 46.32, 45.27, 44.32, 43.87, 44.23, 42.95, 41.74, 40.69, 41.68, 40.73, 40.75, 40.55, 39.39, 39.27, 40.89, 41.22, 40.57, 40.43, 40.58, 39.93, 41.08, 40.0, 37.64, 37.46, 37.16, 36.76, 35.65, 36.31, 37.32, 35.55, 34.98, 34.72, 34.55, 36.12, 36.76, 37.62, 36.36, 37.88, 36.59, 37.13, 36.81, 35.97, 33.97, 33.29, 33.2, 31.42, 30.42, 30.42, 31.22, 29.45, 28.47, 26.68, 29.55, 32.07, 30.31, 29.54, 32.32, 33.21, 33.66, 31.62, 29.9, 32.29, 31.63, 30.86, 29.71, 27.96, 27.54, 26.19, 29.32, 29.05, 30.68, 30.77, 29.59, 31.37, 31.84, 30.35, 31.4, 31.65, 32.74, 34.39, 34.57, 34.56, 35.91, 37.9, 36.67, 37.62, 37.77, 38.51, 37.2, 36.32, 38.43, 40.17, 39.47, 39.91, 41.45, 38.28, 38.14, 37.99, 36.91, 36.91, 36.94, 35.36, 34.3, 34.52, 37.74, 37.3, 39.74, 40.46, 42.12, 41.7, 41.45, 40.4, 39.74, 40.88, 42.72, 43.18, 42.76, 41.67, 42.52, 45.29, 46.03, 45.98, 44.75, 43.65, 43.77, 44.33, 44.58, 43.45, 44.68, 46.21, 46.64, 46.22, 47.72, 48.29, 48.12, 48.16, 47.67, 48.12, 48.04, 49.1, 49.0, 49.36, 49.1, 49.07, 49.14, 48.69, 49.71, 50.37, 51.23, 50.52, 49.09, 48.89, 48.49, 47.92, 46.14, 48.0, 49.4, 48.95, 49.16, 49.34, 46.7, 45.8, 47.93, 49.85, 48.27, 49.02, 46.73, 47.37, 45.22, 45.37, 44.73, 46.82, 44.87, 45.64, 45.93, 45.23, 44.64, 44.96, 43.96, 43.41, 42.4, 42.16, 41.9, 41.13, 41.54, 40.05, 39.5, 40.8, 41.92, 41.83, 43.06, 42.78, 41.75, 43.51, 44.47, 45.72, 46.57, 46.81, 48.2, 48.48, 46.8, 47.54, 46.29, 46.97, 47.64, 46.97, 46.32, 44.68, 43.17, 44.39, 44.85, 45.47, 47.63, 45.88, 46.28, 44.91, 43.62, 43.85, 43.04, 43.34, 43.85, 45.33, 46.1, 44.36, 45.6, 44.65, 47.07, 47.72, 47.72, 48.8, 48.67, 49.75, 50.44, 49.76, 49.76, 50.72, 50.14, 50.47, 50.35, 49.97, 50.3, 51.59, 50.31, 50.61, 50.18, 49.45, 48.75, 49.71, 48.72, 46.83, 46.66, 45.32, 44.66, 44.07, 44.88, 44.96, 45.2, 44.62, 43.39, 43.29, 45.86, 45.56, 45.37, 45.69, 47.48, 48.07, 46.72, 46.72, 45.66, 45.29, 49.41, 51.08, 51.7, 51.72, 50.95, 49.85, 50.84, 51.51, 52.74, 52.99, 51.01, 50.9, 51.93, 52.13, 52.22, 51.44, 51.98, 52.01, 52.82, 54.01, 53.8, 53.75, 52.36, 53.26, 53.77, 53.98, 51.95, 50.82, 52.19, 53.01, 52.36, 52.45, 51.12, 51.39, 52.33, 52.77, 52.38, 52.14, 53.24, 53.18, 52.63, 52.75, 53.9, 53.55, 53.81, 53.01, 52.19, 52.37, 52.99, 53.84, 52.96, 53.21, 53.11, 53.41, 53.41, 54.02, 53.61, 54.48, 53.99, 54.04, 54.0, 53.82, 52.63, 53.33, 53.19, 52.68, 49.83, 48.75, 48.05, 47.95, 47.24, 48.34, 48.3, 48.34, 47.79, 47.02, 47.29, 47.0, 47.3, 47.02, 48.36, 49.47, 50.3, 50.54, 50.25, 50.99, 51.14, 51.69, 52.25, 53.06, 53.38, 53.12, 53.19, 52.62, 52.46, 50.49, 50.26, 49.64, 48.9, 49.22, 49.22, 48.96, 49.31, 48.83, 47.65, 47.79, 45.55, 46.23, 46.46, 45.84, 47.28, 47.81, 47.83, 48.86, 48.64, 49.04, 49.36, 50.32, 50.81, 51.12, 50.99, 48.57, 49.58, 49.63, 48.29, 48.32, 47.68, 47.4, 48.13, 45.8, 45.68, 45.82, 46.1, 46.41, 44.79, 44.47, 44.73, 44.24, 43.34, 42.48, 42.53, 42.86, 43.24, 44.25, 44.74, 44.88, 46.02, 45.11, 45.52, 44.25, 44.4, 45.06, 45.48, 46.06, 46.53, 46.02, 46.4, 47.1, 46.73, 45.78, 46.21, 47.77, 48.58, 49.05, 49.72, 50.21, 49.19, 49.6, 49.03, 49.57, 49.37, 49.07, 49.59, 48.54, 48.81, 47.59, 47.57, 46.8, 47.07, 48.59, 47.39, 47.65, 48.45, 47.24, 47.65, 46.4, 46.46, 45.96, 47.26], \"mode\": \"lines\", \"line\": {\"color\": \"rgb(20, 15, 200, 0.8)\"}, \"fillcolor\": \"rgba(0, 0, 216, 0.3)\", \"fill\": \"tonexty\"}], {\"yaxis\": {\"title\": \"Daily Oil price\"}, \"title\": \"Daily oil prices from Jan 2013 till July 2017\", \"showlegend\": false}, {\"showLink\": true, \"linkText\": \"Export to plot.ly\"})});</script>"
      ],
      "text/plain": [
       "<IPython.core.display.HTML object>"
      ]
     },
     "metadata": {},
     "output_type": "display_data"
    }
   ],
   "source": [
    "oil.head(3)\n",
    "trace = go.Scatter(\n",
    "    name='Oil prices',\n",
    "    x=oil['date'],\n",
    "    y=oil['dcoilwtico'].dropna(),\n",
    "    mode='lines',\n",
    "    line=dict(color='rgb(20, 15, 200, 0.8)'),\n",
    "    fillcolor='rgba(0, 0, 216, 0.3)',\n",
    "    fill='tonexty' )\n",
    "\n",
    "data = [trace]\n",
    "\n",
    "layout = go.Layout(\n",
    "    yaxis=dict(title='Daily Oil price'),\n",
    "    title='Daily oil prices from Jan 2013 till July 2017',\n",
    "    showlegend = False)\n",
    "fig = go.Figure(data=data, layout=layout)\n",
    "py.iplot(fig, filename='pandas-time-series-error-bars')"
   ]
  },
  {
   "cell_type": "code",
   "execution_count": 5,
   "metadata": {
    "collapsed": false
   },
   "outputs": [
    {
     "data": {
      "image/png": "[encoded data removed]",
      "text/plain": [
       "<IPython.core.display.Image object>"
      ]
     },
     "execution_count": 5,
     "metadata": {},
     "output_type": "execute_result"
    }
   ],
   "source": [
    "Image(filename='../image/daily oil price.png')"
   ]
  },
  {
   "cell_type": "markdown",
   "metadata": {},
   "source": [
    "# Data Processing"
   ]
  },
  {
   "cell_type": "code",
   "execution_count": 91,
   "metadata": {
    "collapsed": true
   },
   "outputs": [],
   "source": [
    "def df_lbl_enc(df):\n",
    "    for c in df.columns:\n",
    "        if df[c].dtype == 'object':\n",
    "            lbl = preprocessing.LabelEncoder()\n",
    "            df[c] = lbl.fit_transform(df[c])\n",
    "    return df\n",
    "\n",
    "#items_enc = df_lbl_enc(items)\n",
    "#stores_enc = df_lbl_enc(stores)"
   ]
  },
  {
   "cell_type": "code",
   "execution_count": 6,
   "metadata": {
    "collapsed": true
   },
   "outputs": [],
   "source": [
    "def df_transform(df):\n",
    "    df['year'] = df['date'].dt.year\n",
    "    df['mon'] = df['date'].dt.month\n",
    "    df['day'] = df['date'].dt.day\n",
    "    df['dayofweek'] = df['date'].dt.dayofweek\n",
    "    df['onpromotion'] = df['onpromotion'].apply(lambda x: 1 if x == True else 0)\n",
    "    df['perishable'] = df['perishable'].apply(lambda x: 1 if x == 0 else 1.25)\n",
    "    df['unit_sales'] = df['unit_sales'].apply(lambda x: 0 if x < 0 else x)\n",
    "    df[\"cluster\"] = df[\"cluster\"].astype(str)\n",
    "    df = df.fillna(-1)\n",
    "    return df"
   ]
  },
  {
   "cell_type": "code",
   "execution_count": 7,
   "metadata": {
    "collapsed": false,
    "scrolled": true
   },
   "outputs": [
    {
     "data": {
      "text/html": [
       "<div>\n",
       "<style scoped>\n",
       "    .dataframe tbody tr th:only-of-type {\n",
       "        vertical-align: middle;\n",
       "    }\n",
       "\n",
       "    .dataframe tbody tr th {\n",
       "        vertical-align: top;\n",
       "    }\n",
       "\n",
       "    .dataframe thead th {\n",
       "        text-align: right;\n",
       "    }\n",
       "</style>\n",
       "<table border=\"1\" class=\"dataframe\">\n",
       "  <thead>\n",
       "    <tr style=\"text-align: right;\">\n",
       "      <th></th>\n",
       "      <th>id</th>\n",
       "      <th>date</th>\n",
       "      <th>store_nbr</th>\n",
       "      <th>item_nbr</th>\n",
       "      <th>unit_sales</th>\n",
       "      <th>onpromotion</th>\n",
       "      <th>family</th>\n",
       "      <th>class</th>\n",
       "      <th>perishable</th>\n",
       "      <th>city</th>\n",
       "      <th>state</th>\n",
       "      <th>type</th>\n",
       "      <th>cluster</th>\n",
       "      <th>transactions</th>\n",
       "      <th>transferred</th>\n",
       "      <th>dcoilwtico</th>\n",
       "      <th>year</th>\n",
       "      <th>mon</th>\n",
       "      <th>day</th>\n",
       "      <th>dayofweek</th>\n",
       "    </tr>\n",
       "  </thead>\n",
       "  <tbody>\n",
       "    <tr>\n",
       "      <th>0</th>\n",
       "      <td>120642911</td>\n",
       "      <td>2017-07-01</td>\n",
       "      <td>1</td>\n",
       "      <td>99197</td>\n",
       "      <td>2.0</td>\n",
       "      <td>0</td>\n",
       "      <td>GROCERY I</td>\n",
       "      <td>1067</td>\n",
       "      <td>1.0</td>\n",
       "      <td>Quito</td>\n",
       "      <td>Pichincha</td>\n",
       "      <td>D</td>\n",
       "      <td>13</td>\n",
       "      <td>1362</td>\n",
       "      <td>-1</td>\n",
       "      <td>-1.0</td>\n",
       "      <td>2017</td>\n",
       "      <td>7</td>\n",
       "      <td>1</td>\n",
       "      <td>5</td>\n",
       "    </tr>\n",
       "    <tr>\n",
       "      <th>1</th>\n",
       "      <td>120642912</td>\n",
       "      <td>2017-07-01</td>\n",
       "      <td>1</td>\n",
       "      <td>103520</td>\n",
       "      <td>2.0</td>\n",
       "      <td>0</td>\n",
       "      <td>GROCERY I</td>\n",
       "      <td>1028</td>\n",
       "      <td>1.0</td>\n",
       "      <td>Quito</td>\n",
       "      <td>Pichincha</td>\n",
       "      <td>D</td>\n",
       "      <td>13</td>\n",
       "      <td>1362</td>\n",
       "      <td>-1</td>\n",
       "      <td>-1.0</td>\n",
       "      <td>2017</td>\n",
       "      <td>7</td>\n",
       "      <td>1</td>\n",
       "      <td>5</td>\n",
       "    </tr>\n",
       "  </tbody>\n",
       "</table>\n",
       "</div>"
      ],
      "text/plain": [
       "          id       date  store_nbr  item_nbr  unit_sales  onpromotion  \\\n",
       "0  120642911 2017-07-01          1     99197         2.0            0   \n",
       "1  120642912 2017-07-01          1    103520         2.0            0   \n",
       "\n",
       "      family  class  perishable   city      state type cluster  transactions  \\\n",
       "0  GROCERY I   1067         1.0  Quito  Pichincha    D      13          1362   \n",
       "1  GROCERY I   1028         1.0  Quito  Pichincha    D      13          1362   \n",
       "\n",
       "   transferred  dcoilwtico  year  mon  day  dayofweek  \n",
       "0           -1        -1.0  2017    7    1          5  \n",
       "1           -1        -1.0  2017    7    1          5  "
      ]
     },
     "execution_count": 7,
     "metadata": {},
     "output_type": "execute_result"
    }
   ],
   "source": [
    "df = df_transform(df)\n",
    "df.head(2)"
   ]
  },
  {
   "cell_type": "code",
   "execution_count": 8,
   "metadata": {
    "collapsed": false
   },
   "outputs": [
    {
     "data": {
      "text/html": [
       "<div>\n",
       "<style scoped>\n",
       "    .dataframe tbody tr th:only-of-type {\n",
       "        vertical-align: middle;\n",
       "    }\n",
       "\n",
       "    .dataframe tbody tr th {\n",
       "        vertical-align: top;\n",
       "    }\n",
       "\n",
       "    .dataframe thead th {\n",
       "        text-align: right;\n",
       "    }\n",
       "</style>\n",
       "<table border=\"1\" class=\"dataframe\">\n",
       "  <thead>\n",
       "    <tr style=\"text-align: right;\">\n",
       "      <th></th>\n",
       "      <th>year</th>\n",
       "      <th>mon</th>\n",
       "      <th>day</th>\n",
       "      <th>dayofweek</th>\n",
       "      <th>onpromotion</th>\n",
       "      <th>transferred</th>\n",
       "      <th>family_BABY CARE</th>\n",
       "      <th>family_BEAUTY</th>\n",
       "      <th>family_BEVERAGES</th>\n",
       "      <th>family_BOOKS</th>\n",
       "      <th>...</th>\n",
       "      <th>state_Guayas</th>\n",
       "      <th>state_Imbabura</th>\n",
       "      <th>state_Loja</th>\n",
       "      <th>state_Los Rios</th>\n",
       "      <th>state_Manabi</th>\n",
       "      <th>state_Pastaza</th>\n",
       "      <th>state_Pichincha</th>\n",
       "      <th>state_Santa Elena</th>\n",
       "      <th>state_Santo Domingo de los Tsachilas</th>\n",
       "      <th>state_Tungurahua</th>\n",
       "    </tr>\n",
       "  </thead>\n",
       "  <tbody>\n",
       "    <tr>\n",
       "      <th>0</th>\n",
       "      <td>2017</td>\n",
       "      <td>7</td>\n",
       "      <td>1</td>\n",
       "      <td>5</td>\n",
       "      <td>0</td>\n",
       "      <td>-1</td>\n",
       "      <td>0</td>\n",
       "      <td>0</td>\n",
       "      <td>0</td>\n",
       "      <td>0</td>\n",
       "      <td>...</td>\n",
       "      <td>0</td>\n",
       "      <td>0</td>\n",
       "      <td>0</td>\n",
       "      <td>0</td>\n",
       "      <td>0</td>\n",
       "      <td>0</td>\n",
       "      <td>1</td>\n",
       "      <td>0</td>\n",
       "      <td>0</td>\n",
       "      <td>0</td>\n",
       "    </tr>\n",
       "    <tr>\n",
       "      <th>1</th>\n",
       "      <td>2017</td>\n",
       "      <td>7</td>\n",
       "      <td>1</td>\n",
       "      <td>5</td>\n",
       "      <td>0</td>\n",
       "      <td>-1</td>\n",
       "      <td>0</td>\n",
       "      <td>0</td>\n",
       "      <td>0</td>\n",
       "      <td>0</td>\n",
       "      <td>...</td>\n",
       "      <td>0</td>\n",
       "      <td>0</td>\n",
       "      <td>0</td>\n",
       "      <td>0</td>\n",
       "      <td>0</td>\n",
       "      <td>0</td>\n",
       "      <td>1</td>\n",
       "      <td>0</td>\n",
       "      <td>0</td>\n",
       "      <td>0</td>\n",
       "    </tr>\n",
       "  </tbody>\n",
       "</table>\n",
       "<p>2 rows × 69 columns</p>\n",
       "</div>"
      ],
      "text/plain": [
       "   year  mon  day  dayofweek  onpromotion  transferred  family_BABY CARE  \\\n",
       "0  2017    7    1          5            0           -1                 0   \n",
       "1  2017    7    1          5            0           -1                 0   \n",
       "\n",
       "   family_BEAUTY  family_BEVERAGES  family_BOOKS        ...         \\\n",
       "0              0                 0             0        ...          \n",
       "1              0                 0             0        ...          \n",
       "\n",
       "   state_Guayas  state_Imbabura  state_Loja  state_Los Rios  state_Manabi  \\\n",
       "0             0               0           0               0             0   \n",
       "1             0               0           0               0             0   \n",
       "\n",
       "   state_Pastaza  state_Pichincha  state_Santa Elena  \\\n",
       "0              0                1                  0   \n",
       "1              0                1                  0   \n",
       "\n",
       "   state_Santo Domingo de los Tsachilas  state_Tungurahua  \n",
       "0                                     0                 0  \n",
       "1                                     0                 0  \n",
       "\n",
       "[2 rows x 69 columns]"
      ]
     },
     "execution_count": 8,
     "metadata": {},
     "output_type": "execute_result"
    },
    {
     "data": {
      "text/plain": [
       "0    2.0\n",
       "1    2.0\n",
       "Name: unit_sales, dtype: float64"
      ]
     },
     "execution_count": 8,
     "metadata": {},
     "output_type": "execute_result"
    }
   ],
   "source": [
    "col = [\"year\",\"mon\",\"day\",\"dayofweek\",\"onpromotion\",\"transferred\"]\n",
    "dummy_col = [\"family\",\"cluster\",\"state\"]\n",
    "df_x_dummy = pd.get_dummies(df[dummy_col],drop_first=True)\n",
    "df_x = df[col]\n",
    "df_x = df_x.join(df_x_dummy)\n",
    "df_y = df[\"unit_sales\"]\n",
    "df_x.head(2)\n",
    "df_y.head(2)"
   ]
  },
  {
   "cell_type": "markdown",
   "metadata": {},
   "source": [
    "# Random Forest"
   ]
  },
  {
   "cell_type": "code",
   "execution_count": 9,
   "metadata": {
    "collapsed": true
   },
   "outputs": [],
   "source": [
    "from sklearn.model_selection import train_test_split\n",
    "from sklearn.ensemble import RandomForestRegressor\n",
    "from sklearn.ensemble import GradientBoostingRegressor"
   ]
  },
  {
   "cell_type": "code",
   "execution_count": 10,
   "metadata": {
    "collapsed": true
   },
   "outputs": [],
   "source": [
    "dtrain_x, dtest_x, dtrain_y, dtest_y = train_test_split(df_x, df_y, random_state=1026, test_size=0.2)"
   ]
  },
  {
   "cell_type": "code",
   "execution_count": 11,
   "metadata": {
    "collapsed": false
   },
   "outputs": [
    {
     "data": {
      "text/plain": [
       "RandomForestRegressor(bootstrap=True, criterion='mse', max_depth=None,\n",
       "           max_features='auto', max_leaf_nodes=None,\n",
       "           min_impurity_split=1e-07, min_samples_leaf=1,\n",
       "           min_samples_split=2, min_weight_fraction_leaf=0.0,\n",
       "           n_estimators=5, n_jobs=1, oob_score=False, random_state=None,\n",
       "           verbose=0, warm_start=False)"
      ]
     },
     "execution_count": 11,
     "metadata": {},
     "output_type": "execute_result"
    }
   ],
   "source": [
    "rf = RandomForestRegressor(n_estimators=5)\n",
    "rf.fit(dtrain_x, dtrain_y)"
   ]
  },
  {
   "cell_type": "code",
   "execution_count": 19,
   "metadata": {
    "collapsed": false,
    "scrolled": true
   },
   "outputs": [
    {
     "data": {
      "text/plain": [
       "<matplotlib.axes._subplots.AxesSubplot at 0x14302d21630>"
      ]
     },
     "execution_count": 19,
     "metadata": {},
     "output_type": "execute_result"
    },
    {
     "name": "stdout",
     "output_type": "stream",
     "text": [
      "## rf variable importance\n",
      "## day                                     0.183862682177\n",
      "## dayofweek                               0.116419991265\n",
      "## onpromotion                             0.0774196907205\n",
      "## family_PRODUCE                          0.0714740357435\n",
      "## family_BEVERAGES                        0.0705504138298\n",
      "## cluster_5                               0.045229774122\n",
      "## cluster_11                              0.0417890455324\n",
      "## state_Pichincha                         0.0410719764898\n",
      "## cluster_8                               0.0287040967566\n",
      "## mon                                     0.0280594989973\n",
      "## cluster_14                              0.0259627752154\n",
      "## state_Guayas                            0.0201476628471\n",
      "## family_POULTRY                          0.0182664606296\n",
      "## cluster_6                               0.017312879466\n",
      "## state_Santo Domingo de los Tsachilas    0.0161903853436\n",
      "## cluster_17                              0.0160919820863\n",
      "## family_CLEANING                         0.0154633565895\n",
      "## state_El Oro                            0.0148585070524\n",
      "## state_Chimborazo                        0.0134353029465\n",
      "## cluster_3                               0.0124327822194\n"
     ]
    },
    {
     "data": {
      "image/png": "[encoded data removed]",
      "text/plain": [
       "<matplotlib.figure.Figure at 0x14302d00080>"
      ]
     },
     "metadata": {},
     "output_type": "display_data"
    }
   ],
   "source": [
    "fi = list(zip(dtrain_x.columns, rf.feature_importances_))\n",
    "fi.sort(key=lambda x: x[1], reverse=True)\n",
    "print('## rf variable importance')\n",
    "print_ = [print('## %-40s%s' % (i)) for i in fi[:20]]\n",
    "\n",
    "imp = pd.DataFrame(rf.feature_importances_ , columns = [ 'Importance' ], index = dtrain_x.columns)\n",
    "imp = imp.sort_values(['Importance'], ascending = False )\n",
    "imp[:20].plot( kind = 'barh' )"
   ]
  },
  {
   "cell_type": "code",
   "execution_count": 84,
   "metadata": {
    "collapsed": false,
    "scrolled": false
   },
   "outputs": [
    {
     "data": {
      "text/html": [
       "<div>\n",
       "<style scoped>\n",
       "    .dataframe tbody tr th:only-of-type {\n",
       "        vertical-align: middle;\n",
       "    }\n",
       "\n",
       "    .dataframe tbody tr th {\n",
       "        vertical-align: top;\n",
       "    }\n",
       "\n",
       "    .dataframe thead th {\n",
       "        text-align: right;\n",
       "    }\n",
       "</style>\n",
       "<table border=\"1\" class=\"dataframe\">\n",
       "  <thead>\n",
       "    <tr style=\"text-align: right;\">\n",
       "      <th></th>\n",
       "      <th>predicted</th>\n",
       "      <th>unit_sales</th>\n",
       "      <th>perishable</th>\n",
       "    </tr>\n",
       "  </thead>\n",
       "  <tbody>\n",
       "    <tr>\n",
       "      <th>1119098</th>\n",
       "      <td>5.0</td>\n",
       "      <td>1.0</td>\n",
       "      <td>1.00</td>\n",
       "    </tr>\n",
       "    <tr>\n",
       "      <th>608259</th>\n",
       "      <td>5.0</td>\n",
       "      <td>2.0</td>\n",
       "      <td>1.25</td>\n",
       "    </tr>\n",
       "    <tr>\n",
       "      <th>3954976</th>\n",
       "      <td>4.0</td>\n",
       "      <td>5.0</td>\n",
       "      <td>1.00</td>\n",
       "    </tr>\n",
       "  </tbody>\n",
       "</table>\n",
       "</div>"
      ],
      "text/plain": [
       "         predicted  unit_sales  perishable\n",
       "1119098        5.0         1.0        1.00\n",
       "608259         5.0         2.0        1.25\n",
       "3954976        4.0         5.0        1.00"
      ]
     },
     "execution_count": 84,
     "metadata": {},
     "output_type": "execute_result"
    }
   ],
   "source": [
    "y_predict_rf= rf.predict(dtest_x)\n",
    "predicted_rf = pd.DataFrame({'predicted': y_predict_rf},index = dtest_y.index)\n",
    "predicted_rf[\"predicted\"] = predicted_rf[\"predicted\"].round(0)\n",
    "predicted_rf[\"predicted\"] = predicted_rf[\"predicted\"].apply(lambda x: 0 if x < 0 else x)\n",
    "predicted_rf = predicted_rf.join(dtest_y)\n",
    "predicted_rf = predicted_rf.join(df[\"perishable\"])\n",
    "predicted_rf[\"unit_sales\"] = predicted_rf[\"unit_sales\"].apply(lambda x: 0 if x < 0 else x)\n",
    "predicted_rf.head(3)"
   ]
  },
  {
   "cell_type": "markdown",
   "metadata": {},
   "source": [
    "### Evaluation\n",
    "<img src=\"https://user-images.githubusercontent.com/28268570/34505929-63e908bc-efdd-11e7-993c-980bfd90f771.png\">"
   ]
  },
  {
   "cell_type": "code",
   "execution_count": 74,
   "metadata": {
    "collapsed": true
   },
   "outputs": [],
   "source": [
    "def NWRMSLE(yp, y, w):\n",
    "    error_sum = sum(w * np.square(np.log1p(yp) - np.log1p(y)))\n",
    "    weight_sum = sum(w)\n",
    "    return np.sqrt(error_sum/weight_sum)"
   ]
  },
  {
   "cell_type": "code",
   "execution_count": 85,
   "metadata": {
    "collapsed": false
   },
   "outputs": [
    {
     "data": {
      "text/plain": [
       "0.88493537493831198"
      ]
     },
     "execution_count": 85,
     "metadata": {},
     "output_type": "execute_result"
    }
   ],
   "source": [
    "rf_eval = NWRMSLE(predicted_rf[\"predicted\"],predicted_rf[\"unit_sales\"],predicted_rf[\"perishable\"])\n",
    "rf_eval"
   ]
  },
  {
   "cell_type": "markdown",
   "metadata": {},
   "source": [
    "# XGBoost"
   ]
  },
  {
   "cell_type": "code",
   "execution_count": 24,
   "metadata": {
    "collapsed": false
   },
   "outputs": [],
   "source": [
    "import xgboost as xgb"
   ]
  },
  {
   "cell_type": "code",
   "execution_count": 25,
   "metadata": {
    "collapsed": false
   },
   "outputs": [
    {
     "name": "stdout",
     "output_type": "stream",
     "text": [
      "[0]\ttrain-rmse:24.6783\ttest-rmse:24.6781\n",
      "[50]\ttrain-rmse:22.8142\ttest-rmse:22.9035\n"
     ]
    },
    {
     "data": {
      "text/plain": [
       "<matplotlib.axes._subplots.AxesSubplot at 0x14302f8a9b0>"
      ]
     },
     "execution_count": 25,
     "metadata": {},
     "output_type": "execute_result"
    },
    {
     "data": {
      "image/png": "[encoded data removed]",
      "text/plain": [
       "<matplotlib.figure.Figure at 0x14302f89ba8>"
      ]
     },
     "metadata": {},
     "output_type": "display_data"
    }
   ],
   "source": [
    "dtrain = xgb.DMatrix(dtrain_x, dtrain_y, feature_names=dtrain_x.columns.values)\n",
    "\n",
    "xgb_params = {\n",
    "    'eta': 0.05,\n",
    "    'max_depth': 8,\n",
    "    'subsample': 0.7,\n",
    "    'colsample_bytree': 0.7,\n",
    "    'objective': 'reg:linear',\n",
    "    'eval_metric': 'rmse',\n",
    "    'silent': 1\n",
    "}\n",
    "\n",
    "# cv_output = xgb.cv(xgb_params, dtrain, num_boost_round=100, early_stopping_rounds=20,\n",
    "#     verbose_eval=50, show_stdv=False)\n",
    "# cv_output[['train-rmse-mean', 'test-rmse-mean']].plot()"
   ]
  },
  {
   "cell_type": "code",
   "execution_count": 28,
   "metadata": {
    "collapsed": true
   },
   "outputs": [],
   "source": [
    "num_boost_rounds = 30\n",
    "xgb_model= xgb.train(dict(xgb_params, silent=0), dtrain, num_boost_round= num_boost_rounds)"
   ]
  },
  {
   "cell_type": "code",
   "execution_count": 32,
   "metadata": {
    "collapsed": false
   },
   "outputs": [
    {
     "data": {
      "text/plain": [
       "(array([ 0. ,  0.2,  0.4,  0.6,  0.8,  1. ]),\n",
       " <a list of 6 Text xticklabel objects>)"
      ]
     },
     "execution_count": 32,
     "metadata": {},
     "output_type": "execute_result"
    },
    {
     "name": "stderr",
     "output_type": "stream",
     "text": [
      "C:\\Users\\yiqin\\Anaconda3\\lib\\site-packages\\seaborn\\categorical.py:1424: FutureWarning:\n",
      "\n",
      "remove_na is deprecated and is a private function. Do not use.\n",
      "\n"
     ]
    },
    {
     "data": {
      "text/plain": [
       "<matplotlib.axes._subplots.AxesSubplot at 0x14303477080>"
      ]
     },
     "execution_count": 32,
     "metadata": {},
     "output_type": "execute_result"
    },
    {
     "data": {
      "image/png": "[encoded data removed]",
      "text/plain": [
       "<matplotlib.figure.Figure at 0x143034670b8>"
      ]
     },
     "metadata": {},
     "output_type": "display_data"
    }
   ],
   "source": [
    "featureImportance = xgb_model.get_fscore()\n",
    "features = pd.DataFrame()\n",
    "features['features'] = featureImportance.keys()\n",
    "features['importance'] = featureImportance.values()\n",
    "features.sort_values(by=['importance'],ascending=False,inplace=True)\n",
    "fig,ax= plt.subplots()\n",
    "fig.set_size_inches(20,10)\n",
    "plt.xticks(rotation=60)\n",
    "sns.barplot(data=features.head(20),y=\"features\",x=\"importance\",ax=ax,orient=\"h\")"
   ]
  },
  {
   "cell_type": "code",
   "execution_count": 34,
   "metadata": {
    "collapsed": false
   },
   "outputs": [],
   "source": [
    "dtest = xgb.DMatrix(dtest_x)\n",
    "y_predict = xgb_model.predict(dtest)"
   ]
  },
  {
   "cell_type": "code",
   "execution_count": 82,
   "metadata": {
    "collapsed": false
   },
   "outputs": [
    {
     "data": {
      "text/html": [
       "<div>\n",
       "<style scoped>\n",
       "    .dataframe tbody tr th:only-of-type {\n",
       "        vertical-align: middle;\n",
       "    }\n",
       "\n",
       "    .dataframe tbody tr th {\n",
       "        vertical-align: top;\n",
       "    }\n",
       "\n",
       "    .dataframe thead th {\n",
       "        text-align: right;\n",
       "    }\n",
       "</style>\n",
       "<table border=\"1\" class=\"dataframe\">\n",
       "  <thead>\n",
       "    <tr style=\"text-align: right;\">\n",
       "      <th></th>\n",
       "      <th>predicted</th>\n",
       "      <th>unit_sales</th>\n",
       "      <th>perishable</th>\n",
       "    </tr>\n",
       "  </thead>\n",
       "  <tbody>\n",
       "    <tr>\n",
       "      <th>1119098</th>\n",
       "      <td>4.0</td>\n",
       "      <td>1.0</td>\n",
       "      <td>1.00</td>\n",
       "    </tr>\n",
       "    <tr>\n",
       "      <th>608259</th>\n",
       "      <td>4.0</td>\n",
       "      <td>2.0</td>\n",
       "      <td>1.25</td>\n",
       "    </tr>\n",
       "    <tr>\n",
       "      <th>3954976</th>\n",
       "      <td>4.0</td>\n",
       "      <td>5.0</td>\n",
       "      <td>1.00</td>\n",
       "    </tr>\n",
       "  </tbody>\n",
       "</table>\n",
       "</div>"
      ],
      "text/plain": [
       "         predicted  unit_sales  perishable\n",
       "1119098        4.0         1.0        1.00\n",
       "608259         4.0         2.0        1.25\n",
       "3954976        4.0         5.0        1.00"
      ]
     },
     "execution_count": 82,
     "metadata": {},
     "output_type": "execute_result"
    }
   ],
   "source": [
    "predicted_df = pd.DataFrame({'predicted': y_predict},index = dtest_y.index)\n",
    "predicted_df[\"predicted\"] = predicted_df[\"predicted\"].round(0)\n",
    "predicted_df[\"predicted\"] = predicted_df[\"predicted\"].apply(lambda x: 0 if x < 0 else x)\n",
    "predicted_df = predicted_df.join(dtest_y)\n",
    "predicted_df = predicted_df.join(df[\"perishable\"])\n",
    "predicted_df[\"unit_sales\"] = predicted_df[\"unit_sales\"].apply(lambda x: 0 if x < 0 else x)\n",
    "predicted_df.head(3)"
   ]
  },
  {
   "cell_type": "code",
   "execution_count": 83,
   "metadata": {
    "collapsed": false
   },
   "outputs": [
    {
     "data": {
      "text/plain": [
       "0.8379229236698349"
      ]
     },
     "execution_count": 83,
     "metadata": {},
     "output_type": "execute_result"
    }
   ],
   "source": [
    "xgb_eval = NWRMSLE(predicted_df[\"predicted\"],predicted_df[\"unit_sales\"],predicted_df[\"perishable\"])\n",
    "xgb_eval"
   ]
  }
 ],
 "metadata": {
  "kernelspec": {
   "display_name": "Python 3",
   "language": "python",
   "name": "python3"
  },
  "language_info": {
   "codemirror_mode": {
    "name": "ipython",
    "version": 3
   },
   "file_extension": ".py",
   "mimetype": "text/x-python",
   "name": "python",
   "nbconvert_exporter": "python",
   "pygments_lexer": "ipython3",
   "version": "3.6.0"
  }
 },
 "nbformat": 4,
 "nbformat_minor": 2
}
